{
 "cells": [
  {
   "cell_type": "code",
   "execution_count": 144,
   "id": "8dc5ce1d",
   "metadata": {},
   "outputs": [],
   "source": [
    "import pandas as pd\n",
    "import numpy as np\n",
    "df = pd.read_csv('bank-full.csv')"
   ]
  },
  {
   "cell_type": "code",
   "execution_count": 145,
   "id": "bdda874b",
   "metadata": {},
   "outputs": [
    {
     "data": {
      "text/plain": [
       "(41188, 21)"
      ]
     },
     "execution_count": 145,
     "metadata": {},
     "output_type": "execute_result"
    }
   ],
   "source": [
    "df.shape"
   ]
  },
  {
   "cell_type": "code",
   "execution_count": 146,
   "id": "bcf11764",
   "metadata": {},
   "outputs": [
    {
     "data": {
      "text/html": [
       "<div>\n",
       "<style scoped>\n",
       "    .dataframe tbody tr th:only-of-type {\n",
       "        vertical-align: middle;\n",
       "    }\n",
       "\n",
       "    .dataframe tbody tr th {\n",
       "        vertical-align: top;\n",
       "    }\n",
       "\n",
       "    .dataframe thead th {\n",
       "        text-align: right;\n",
       "    }\n",
       "</style>\n",
       "<table border=\"1\" class=\"dataframe\">\n",
       "  <thead>\n",
       "    <tr style=\"text-align: right;\">\n",
       "      <th></th>\n",
       "      <th>age</th>\n",
       "      <th>job</th>\n",
       "      <th>marital</th>\n",
       "      <th>education</th>\n",
       "      <th>default</th>\n",
       "      <th>housing</th>\n",
       "      <th>loan</th>\n",
       "      <th>contact</th>\n",
       "      <th>month</th>\n",
       "      <th>day_of_week</th>\n",
       "      <th>...</th>\n",
       "      <th>campaign</th>\n",
       "      <th>pdays</th>\n",
       "      <th>previous</th>\n",
       "      <th>poutcome</th>\n",
       "      <th>emp.var.rate</th>\n",
       "      <th>cons.price.idx</th>\n",
       "      <th>cons.conf.idx</th>\n",
       "      <th>euribor3m</th>\n",
       "      <th>nr.employed</th>\n",
       "      <th>subscribed</th>\n",
       "    </tr>\n",
       "  </thead>\n",
       "  <tbody>\n",
       "    <tr>\n",
       "      <th>0</th>\n",
       "      <td>56</td>\n",
       "      <td>housemaid</td>\n",
       "      <td>married</td>\n",
       "      <td>basic.4y</td>\n",
       "      <td>no</td>\n",
       "      <td>no</td>\n",
       "      <td>no</td>\n",
       "      <td>telephone</td>\n",
       "      <td>may</td>\n",
       "      <td>mon</td>\n",
       "      <td>...</td>\n",
       "      <td>1</td>\n",
       "      <td>999</td>\n",
       "      <td>0</td>\n",
       "      <td>nonexistent</td>\n",
       "      <td>1.1</td>\n",
       "      <td>93.994</td>\n",
       "      <td>-36.4</td>\n",
       "      <td>4.857</td>\n",
       "      <td>5191.0</td>\n",
       "      <td>no</td>\n",
       "    </tr>\n",
       "    <tr>\n",
       "      <th>1</th>\n",
       "      <td>57</td>\n",
       "      <td>services</td>\n",
       "      <td>married</td>\n",
       "      <td>high.school</td>\n",
       "      <td>unknown</td>\n",
       "      <td>no</td>\n",
       "      <td>no</td>\n",
       "      <td>telephone</td>\n",
       "      <td>may</td>\n",
       "      <td>mon</td>\n",
       "      <td>...</td>\n",
       "      <td>1</td>\n",
       "      <td>999</td>\n",
       "      <td>0</td>\n",
       "      <td>nonexistent</td>\n",
       "      <td>1.1</td>\n",
       "      <td>93.994</td>\n",
       "      <td>-36.4</td>\n",
       "      <td>4.857</td>\n",
       "      <td>5191.0</td>\n",
       "      <td>no</td>\n",
       "    </tr>\n",
       "    <tr>\n",
       "      <th>2</th>\n",
       "      <td>37</td>\n",
       "      <td>services</td>\n",
       "      <td>married</td>\n",
       "      <td>high.school</td>\n",
       "      <td>no</td>\n",
       "      <td>yes</td>\n",
       "      <td>no</td>\n",
       "      <td>telephone</td>\n",
       "      <td>may</td>\n",
       "      <td>mon</td>\n",
       "      <td>...</td>\n",
       "      <td>1</td>\n",
       "      <td>999</td>\n",
       "      <td>0</td>\n",
       "      <td>nonexistent</td>\n",
       "      <td>1.1</td>\n",
       "      <td>93.994</td>\n",
       "      <td>-36.4</td>\n",
       "      <td>4.857</td>\n",
       "      <td>5191.0</td>\n",
       "      <td>no</td>\n",
       "    </tr>\n",
       "    <tr>\n",
       "      <th>3</th>\n",
       "      <td>40</td>\n",
       "      <td>admin.</td>\n",
       "      <td>married</td>\n",
       "      <td>basic.6y</td>\n",
       "      <td>no</td>\n",
       "      <td>no</td>\n",
       "      <td>no</td>\n",
       "      <td>telephone</td>\n",
       "      <td>may</td>\n",
       "      <td>mon</td>\n",
       "      <td>...</td>\n",
       "      <td>1</td>\n",
       "      <td>999</td>\n",
       "      <td>0</td>\n",
       "      <td>nonexistent</td>\n",
       "      <td>1.1</td>\n",
       "      <td>93.994</td>\n",
       "      <td>-36.4</td>\n",
       "      <td>4.857</td>\n",
       "      <td>5191.0</td>\n",
       "      <td>no</td>\n",
       "    </tr>\n",
       "    <tr>\n",
       "      <th>4</th>\n",
       "      <td>56</td>\n",
       "      <td>services</td>\n",
       "      <td>married</td>\n",
       "      <td>high.school</td>\n",
       "      <td>no</td>\n",
       "      <td>no</td>\n",
       "      <td>yes</td>\n",
       "      <td>telephone</td>\n",
       "      <td>may</td>\n",
       "      <td>mon</td>\n",
       "      <td>...</td>\n",
       "      <td>1</td>\n",
       "      <td>999</td>\n",
       "      <td>0</td>\n",
       "      <td>nonexistent</td>\n",
       "      <td>1.1</td>\n",
       "      <td>93.994</td>\n",
       "      <td>-36.4</td>\n",
       "      <td>4.857</td>\n",
       "      <td>5191.0</td>\n",
       "      <td>no</td>\n",
       "    </tr>\n",
       "  </tbody>\n",
       "</table>\n",
       "<p>5 rows × 21 columns</p>\n",
       "</div>"
      ],
      "text/plain": [
       "   age        job  marital    education  default housing loan    contact  \\\n",
       "0   56  housemaid  married     basic.4y       no      no   no  telephone   \n",
       "1   57   services  married  high.school  unknown      no   no  telephone   \n",
       "2   37   services  married  high.school       no     yes   no  telephone   \n",
       "3   40     admin.  married     basic.6y       no      no   no  telephone   \n",
       "4   56   services  married  high.school       no      no  yes  telephone   \n",
       "\n",
       "  month day_of_week  ...  campaign  pdays  previous     poutcome emp.var.rate  \\\n",
       "0   may         mon  ...         1    999         0  nonexistent          1.1   \n",
       "1   may         mon  ...         1    999         0  nonexistent          1.1   \n",
       "2   may         mon  ...         1    999         0  nonexistent          1.1   \n",
       "3   may         mon  ...         1    999         0  nonexistent          1.1   \n",
       "4   may         mon  ...         1    999         0  nonexistent          1.1   \n",
       "\n",
       "   cons.price.idx  cons.conf.idx  euribor3m  nr.employed  subscribed  \n",
       "0          93.994          -36.4      4.857       5191.0          no  \n",
       "1          93.994          -36.4      4.857       5191.0          no  \n",
       "2          93.994          -36.4      4.857       5191.0          no  \n",
       "3          93.994          -36.4      4.857       5191.0          no  \n",
       "4          93.994          -36.4      4.857       5191.0          no  \n",
       "\n",
       "[5 rows x 21 columns]"
      ]
     },
     "execution_count": 146,
     "metadata": {},
     "output_type": "execute_result"
    }
   ],
   "source": [
    "df.head()"
   ]
  },
  {
   "cell_type": "markdown",
   "id": "43d39088",
   "metadata": {},
   "source": [
    "# bank client data:\n",
    "    1 - age (numeric)\n",
    "    2 - job : type of job (categorical: 'admin.','blue-collar','entrepreneur','housemaid','management','retired','self-employed','services','student','technician','unemployed','unknown')\n",
    "    3 - marital : marital status (categorical: 'divorced','married','single','unknown'; note: 'divorced' means divorced or widowed)\n",
    "    4 - education (categorical: 'basic.4y','basic.6y','basic.9y','high.school','illiterate','professional.course','university.degree','unknown')\n",
    "    5 - default: has credit in default? (categorical: 'no','yes','unknown')\n",
    "    6 - housing: has housing loan? (categorical: 'no','yes','unknown')\n",
    "    7 - loan: has personal loan? (categorical: 'no','yes','unknown')\n",
    "# related with the last contact of the current campaign:\n",
    "    8 - contact: contact communication type (categorical: 'cellular','telephone')\n",
    "    9 - month: last contact month of year (categorical: 'jan', 'feb', 'mar', …, 'nov', 'dec')\n",
    "    10 - dayofweek: last contact day of the week (categorical: 'mon','tue','wed','thu','fri')\n",
    "    11 - duration: last contact duration, in seconds (numeric). Important note: this attribute highly affects the output target (e.g., if duration=0 then y='no'). Yet, the duration is not known before a call is performed. Also, after the end of the call y is obviously known. Thus, this input should only be included for benchmark purposes and should be discarded if the intention is to have a realistic predictive model.\n",
    "# other attributes:\n",
    "    12 - campaign: number of contacts performed during this campaign and for this client (numeric, includes last contact)\n",
    "    13 - pdays: number of days that passed by after the client was last contacted from a previous campaign (numeric; 999 means client was not previously contacted)\n",
    "    14 - previous: number of contacts performed before this campaign and for this client (numeric)\n",
    "    15 - poutcome: outcome of the previous marketing campaign (categorical: 'failure','nonexistent','success')\n",
    "# social and economic context attributes\n",
    "    16 - emp.var.rate: employment variation rate - quarterly indicator (numeric)\n",
    "    17 - cons.price.idx: consumer price index - monthly indicator (numeric)\n",
    "    18 - cons.conf.idx: consumer confidence index - monthly indicator (numeric)\n",
    "    19 - euribor3m: euribor 3 month rate - daily indicator (numeric)\n",
    "    20 - nr.employed: number of employees - quarterly indicator (numeric)\n",
    "    21 - y - has the client subscribed a term deposit? (binary: 'yes','no')"
   ]
  },
  {
   "cell_type": "code",
   "execution_count": 147,
   "id": "b4ce998f",
   "metadata": {},
   "outputs": [],
   "source": [
    "import numpy as np # linear algebra\n",
    "import pandas as pd # data processing, CSV file I/O (e.g. pd.read_csv)\n",
    "import matplotlib.pyplot as plt #visuals\n",
    "import seaborn as sns #visuals\n",
    "\n",
    "from sklearn.preprocessing import StandardScaler #scaler\n",
    "from sklearn.cluster import KMeans #k-means\n",
    "\n",
    "from sklearn.decomposition import PCA #pca"
   ]
  },
  {
   "cell_type": "code",
   "execution_count": 148,
   "id": "e6ed598a",
   "metadata": {},
   "outputs": [
    {
     "name": "stdout",
     "output_type": "stream",
     "text": [
      "<class 'pandas.core.frame.DataFrame'>\n",
      "RangeIndex: 41188 entries, 0 to 41187\n",
      "Data columns (total 21 columns):\n",
      " #   Column          Non-Null Count  Dtype  \n",
      "---  ------          --------------  -----  \n",
      " 0   age             41188 non-null  int64  \n",
      " 1   job             41188 non-null  object \n",
      " 2   marital         41188 non-null  object \n",
      " 3   education       41188 non-null  object \n",
      " 4   default         41188 non-null  object \n",
      " 5   housing         41188 non-null  object \n",
      " 6   loan            41188 non-null  object \n",
      " 7   contact         41188 non-null  object \n",
      " 8   month           41188 non-null  object \n",
      " 9   day_of_week     41188 non-null  object \n",
      " 10  duration        41188 non-null  int64  \n",
      " 11  campaign        41188 non-null  int64  \n",
      " 12  pdays           41188 non-null  int64  \n",
      " 13  previous        41188 non-null  int64  \n",
      " 14  poutcome        41188 non-null  object \n",
      " 15  emp.var.rate    41188 non-null  float64\n",
      " 16  cons.price.idx  41188 non-null  float64\n",
      " 17  cons.conf.idx   41188 non-null  float64\n",
      " 18  euribor3m       41188 non-null  float64\n",
      " 19  nr.employed     41188 non-null  float64\n",
      " 20  subscribed      41188 non-null  object \n",
      "dtypes: float64(5), int64(5), object(11)\n",
      "memory usage: 6.6+ MB\n"
     ]
    }
   ],
   "source": [
    "df.info()\n"
   ]
  },
  {
   "cell_type": "code",
   "execution_count": 149,
   "id": "8a525aa2",
   "metadata": {},
   "outputs": [
    {
     "data": {
      "text/html": [
       "<div>\n",
       "<style scoped>\n",
       "    .dataframe tbody tr th:only-of-type {\n",
       "        vertical-align: middle;\n",
       "    }\n",
       "\n",
       "    .dataframe tbody tr th {\n",
       "        vertical-align: top;\n",
       "    }\n",
       "\n",
       "    .dataframe thead th {\n",
       "        text-align: right;\n",
       "    }\n",
       "</style>\n",
       "<table border=\"1\" class=\"dataframe\">\n",
       "  <thead>\n",
       "    <tr style=\"text-align: right;\">\n",
       "      <th></th>\n",
       "      <th>age</th>\n",
       "      <th>duration</th>\n",
       "      <th>campaign</th>\n",
       "      <th>pdays</th>\n",
       "      <th>previous</th>\n",
       "      <th>emp.var.rate</th>\n",
       "      <th>cons.price.idx</th>\n",
       "      <th>cons.conf.idx</th>\n",
       "      <th>euribor3m</th>\n",
       "      <th>nr.employed</th>\n",
       "    </tr>\n",
       "  </thead>\n",
       "  <tbody>\n",
       "    <tr>\n",
       "      <th>count</th>\n",
       "      <td>41188.00000</td>\n",
       "      <td>41188.000000</td>\n",
       "      <td>41188.000000</td>\n",
       "      <td>41188.000000</td>\n",
       "      <td>41188.000000</td>\n",
       "      <td>41188.000000</td>\n",
       "      <td>41188.000000</td>\n",
       "      <td>41188.000000</td>\n",
       "      <td>41188.000000</td>\n",
       "      <td>41188.000000</td>\n",
       "    </tr>\n",
       "    <tr>\n",
       "      <th>mean</th>\n",
       "      <td>40.02406</td>\n",
       "      <td>258.285010</td>\n",
       "      <td>2.567593</td>\n",
       "      <td>962.475454</td>\n",
       "      <td>0.172963</td>\n",
       "      <td>0.081886</td>\n",
       "      <td>93.575664</td>\n",
       "      <td>-40.502600</td>\n",
       "      <td>3.621291</td>\n",
       "      <td>5167.035911</td>\n",
       "    </tr>\n",
       "    <tr>\n",
       "      <th>std</th>\n",
       "      <td>10.42125</td>\n",
       "      <td>259.279249</td>\n",
       "      <td>2.770014</td>\n",
       "      <td>186.910907</td>\n",
       "      <td>0.494901</td>\n",
       "      <td>1.570960</td>\n",
       "      <td>0.578840</td>\n",
       "      <td>4.628198</td>\n",
       "      <td>1.734447</td>\n",
       "      <td>72.251528</td>\n",
       "    </tr>\n",
       "    <tr>\n",
       "      <th>min</th>\n",
       "      <td>17.00000</td>\n",
       "      <td>0.000000</td>\n",
       "      <td>1.000000</td>\n",
       "      <td>0.000000</td>\n",
       "      <td>0.000000</td>\n",
       "      <td>-3.400000</td>\n",
       "      <td>92.201000</td>\n",
       "      <td>-50.800000</td>\n",
       "      <td>0.634000</td>\n",
       "      <td>4963.600000</td>\n",
       "    </tr>\n",
       "    <tr>\n",
       "      <th>25%</th>\n",
       "      <td>32.00000</td>\n",
       "      <td>102.000000</td>\n",
       "      <td>1.000000</td>\n",
       "      <td>999.000000</td>\n",
       "      <td>0.000000</td>\n",
       "      <td>-1.800000</td>\n",
       "      <td>93.075000</td>\n",
       "      <td>-42.700000</td>\n",
       "      <td>1.344000</td>\n",
       "      <td>5099.100000</td>\n",
       "    </tr>\n",
       "    <tr>\n",
       "      <th>50%</th>\n",
       "      <td>38.00000</td>\n",
       "      <td>180.000000</td>\n",
       "      <td>2.000000</td>\n",
       "      <td>999.000000</td>\n",
       "      <td>0.000000</td>\n",
       "      <td>1.100000</td>\n",
       "      <td>93.749000</td>\n",
       "      <td>-41.800000</td>\n",
       "      <td>4.857000</td>\n",
       "      <td>5191.000000</td>\n",
       "    </tr>\n",
       "    <tr>\n",
       "      <th>75%</th>\n",
       "      <td>47.00000</td>\n",
       "      <td>319.000000</td>\n",
       "      <td>3.000000</td>\n",
       "      <td>999.000000</td>\n",
       "      <td>0.000000</td>\n",
       "      <td>1.400000</td>\n",
       "      <td>93.994000</td>\n",
       "      <td>-36.400000</td>\n",
       "      <td>4.961000</td>\n",
       "      <td>5228.100000</td>\n",
       "    </tr>\n",
       "    <tr>\n",
       "      <th>max</th>\n",
       "      <td>98.00000</td>\n",
       "      <td>4918.000000</td>\n",
       "      <td>56.000000</td>\n",
       "      <td>999.000000</td>\n",
       "      <td>7.000000</td>\n",
       "      <td>1.400000</td>\n",
       "      <td>94.767000</td>\n",
       "      <td>-26.900000</td>\n",
       "      <td>5.045000</td>\n",
       "      <td>5228.100000</td>\n",
       "    </tr>\n",
       "  </tbody>\n",
       "</table>\n",
       "</div>"
      ],
      "text/plain": [
       "               age      duration      campaign         pdays      previous  \\\n",
       "count  41188.00000  41188.000000  41188.000000  41188.000000  41188.000000   \n",
       "mean      40.02406    258.285010      2.567593    962.475454      0.172963   \n",
       "std       10.42125    259.279249      2.770014    186.910907      0.494901   \n",
       "min       17.00000      0.000000      1.000000      0.000000      0.000000   \n",
       "25%       32.00000    102.000000      1.000000    999.000000      0.000000   \n",
       "50%       38.00000    180.000000      2.000000    999.000000      0.000000   \n",
       "75%       47.00000    319.000000      3.000000    999.000000      0.000000   \n",
       "max       98.00000   4918.000000     56.000000    999.000000      7.000000   \n",
       "\n",
       "       emp.var.rate  cons.price.idx  cons.conf.idx     euribor3m   nr.employed  \n",
       "count  41188.000000    41188.000000   41188.000000  41188.000000  41188.000000  \n",
       "mean       0.081886       93.575664     -40.502600      3.621291   5167.035911  \n",
       "std        1.570960        0.578840       4.628198      1.734447     72.251528  \n",
       "min       -3.400000       92.201000     -50.800000      0.634000   4963.600000  \n",
       "25%       -1.800000       93.075000     -42.700000      1.344000   5099.100000  \n",
       "50%        1.100000       93.749000     -41.800000      4.857000   5191.000000  \n",
       "75%        1.400000       93.994000     -36.400000      4.961000   5228.100000  \n",
       "max        1.400000       94.767000     -26.900000      5.045000   5228.100000  "
      ]
     },
     "execution_count": 149,
     "metadata": {},
     "output_type": "execute_result"
    }
   ],
   "source": [
    "df.describe()"
   ]
  },
  {
   "cell_type": "code",
   "execution_count": 150,
   "id": "8364ae6d",
   "metadata": {},
   "outputs": [
    {
     "data": {
      "text/html": [
       "<div>\n",
       "<style scoped>\n",
       "    .dataframe tbody tr th:only-of-type {\n",
       "        vertical-align: middle;\n",
       "    }\n",
       "\n",
       "    .dataframe tbody tr th {\n",
       "        vertical-align: top;\n",
       "    }\n",
       "\n",
       "    .dataframe thead th {\n",
       "        text-align: right;\n",
       "    }\n",
       "</style>\n",
       "<table border=\"1\" class=\"dataframe\">\n",
       "  <thead>\n",
       "    <tr style=\"text-align: right;\">\n",
       "      <th></th>\n",
       "      <th>age</th>\n",
       "      <th>job</th>\n",
       "      <th>marital</th>\n",
       "      <th>education</th>\n",
       "      <th>default</th>\n",
       "      <th>housing</th>\n",
       "      <th>loan</th>\n",
       "      <th>contact</th>\n",
       "      <th>month</th>\n",
       "      <th>day_of_week</th>\n",
       "      <th>...</th>\n",
       "      <th>campaign</th>\n",
       "      <th>pdays</th>\n",
       "      <th>previous</th>\n",
       "      <th>poutcome</th>\n",
       "      <th>emp.var.rate</th>\n",
       "      <th>cons.price.idx</th>\n",
       "      <th>cons.conf.idx</th>\n",
       "      <th>euribor3m</th>\n",
       "      <th>nr.employed</th>\n",
       "      <th>subscribed</th>\n",
       "    </tr>\n",
       "  </thead>\n",
       "  <tbody>\n",
       "    <tr>\n",
       "      <th>1266</th>\n",
       "      <td>39</td>\n",
       "      <td>blue-collar</td>\n",
       "      <td>married</td>\n",
       "      <td>basic.6y</td>\n",
       "      <td>no</td>\n",
       "      <td>no</td>\n",
       "      <td>no</td>\n",
       "      <td>telephone</td>\n",
       "      <td>may</td>\n",
       "      <td>thu</td>\n",
       "      <td>...</td>\n",
       "      <td>1</td>\n",
       "      <td>999</td>\n",
       "      <td>0</td>\n",
       "      <td>nonexistent</td>\n",
       "      <td>1.1</td>\n",
       "      <td>93.994</td>\n",
       "      <td>-36.4</td>\n",
       "      <td>4.855</td>\n",
       "      <td>5191.0</td>\n",
       "      <td>no</td>\n",
       "    </tr>\n",
       "    <tr>\n",
       "      <th>12261</th>\n",
       "      <td>36</td>\n",
       "      <td>retired</td>\n",
       "      <td>married</td>\n",
       "      <td>unknown</td>\n",
       "      <td>no</td>\n",
       "      <td>no</td>\n",
       "      <td>no</td>\n",
       "      <td>telephone</td>\n",
       "      <td>jul</td>\n",
       "      <td>thu</td>\n",
       "      <td>...</td>\n",
       "      <td>1</td>\n",
       "      <td>999</td>\n",
       "      <td>0</td>\n",
       "      <td>nonexistent</td>\n",
       "      <td>1.4</td>\n",
       "      <td>93.918</td>\n",
       "      <td>-42.7</td>\n",
       "      <td>4.966</td>\n",
       "      <td>5228.1</td>\n",
       "      <td>no</td>\n",
       "    </tr>\n",
       "    <tr>\n",
       "      <th>14234</th>\n",
       "      <td>27</td>\n",
       "      <td>technician</td>\n",
       "      <td>single</td>\n",
       "      <td>professional.course</td>\n",
       "      <td>no</td>\n",
       "      <td>no</td>\n",
       "      <td>no</td>\n",
       "      <td>cellular</td>\n",
       "      <td>jul</td>\n",
       "      <td>mon</td>\n",
       "      <td>...</td>\n",
       "      <td>2</td>\n",
       "      <td>999</td>\n",
       "      <td>0</td>\n",
       "      <td>nonexistent</td>\n",
       "      <td>1.4</td>\n",
       "      <td>93.918</td>\n",
       "      <td>-42.7</td>\n",
       "      <td>4.962</td>\n",
       "      <td>5228.1</td>\n",
       "      <td>no</td>\n",
       "    </tr>\n",
       "    <tr>\n",
       "      <th>16956</th>\n",
       "      <td>47</td>\n",
       "      <td>technician</td>\n",
       "      <td>divorced</td>\n",
       "      <td>high.school</td>\n",
       "      <td>no</td>\n",
       "      <td>yes</td>\n",
       "      <td>no</td>\n",
       "      <td>cellular</td>\n",
       "      <td>jul</td>\n",
       "      <td>thu</td>\n",
       "      <td>...</td>\n",
       "      <td>3</td>\n",
       "      <td>999</td>\n",
       "      <td>0</td>\n",
       "      <td>nonexistent</td>\n",
       "      <td>1.4</td>\n",
       "      <td>93.918</td>\n",
       "      <td>-42.7</td>\n",
       "      <td>4.962</td>\n",
       "      <td>5228.1</td>\n",
       "      <td>no</td>\n",
       "    </tr>\n",
       "    <tr>\n",
       "      <th>18465</th>\n",
       "      <td>32</td>\n",
       "      <td>technician</td>\n",
       "      <td>single</td>\n",
       "      <td>professional.course</td>\n",
       "      <td>no</td>\n",
       "      <td>yes</td>\n",
       "      <td>no</td>\n",
       "      <td>cellular</td>\n",
       "      <td>jul</td>\n",
       "      <td>thu</td>\n",
       "      <td>...</td>\n",
       "      <td>1</td>\n",
       "      <td>999</td>\n",
       "      <td>0</td>\n",
       "      <td>nonexistent</td>\n",
       "      <td>1.4</td>\n",
       "      <td>93.918</td>\n",
       "      <td>-42.7</td>\n",
       "      <td>4.968</td>\n",
       "      <td>5228.1</td>\n",
       "      <td>no</td>\n",
       "    </tr>\n",
       "    <tr>\n",
       "      <th>20216</th>\n",
       "      <td>55</td>\n",
       "      <td>services</td>\n",
       "      <td>married</td>\n",
       "      <td>high.school</td>\n",
       "      <td>unknown</td>\n",
       "      <td>no</td>\n",
       "      <td>no</td>\n",
       "      <td>cellular</td>\n",
       "      <td>aug</td>\n",
       "      <td>mon</td>\n",
       "      <td>...</td>\n",
       "      <td>1</td>\n",
       "      <td>999</td>\n",
       "      <td>0</td>\n",
       "      <td>nonexistent</td>\n",
       "      <td>1.4</td>\n",
       "      <td>93.444</td>\n",
       "      <td>-36.1</td>\n",
       "      <td>4.965</td>\n",
       "      <td>5228.1</td>\n",
       "      <td>no</td>\n",
       "    </tr>\n",
       "    <tr>\n",
       "      <th>20534</th>\n",
       "      <td>41</td>\n",
       "      <td>technician</td>\n",
       "      <td>married</td>\n",
       "      <td>professional.course</td>\n",
       "      <td>no</td>\n",
       "      <td>yes</td>\n",
       "      <td>no</td>\n",
       "      <td>cellular</td>\n",
       "      <td>aug</td>\n",
       "      <td>tue</td>\n",
       "      <td>...</td>\n",
       "      <td>1</td>\n",
       "      <td>999</td>\n",
       "      <td>0</td>\n",
       "      <td>nonexistent</td>\n",
       "      <td>1.4</td>\n",
       "      <td>93.444</td>\n",
       "      <td>-36.1</td>\n",
       "      <td>4.966</td>\n",
       "      <td>5228.1</td>\n",
       "      <td>no</td>\n",
       "    </tr>\n",
       "    <tr>\n",
       "      <th>25217</th>\n",
       "      <td>39</td>\n",
       "      <td>admin.</td>\n",
       "      <td>married</td>\n",
       "      <td>university.degree</td>\n",
       "      <td>no</td>\n",
       "      <td>no</td>\n",
       "      <td>no</td>\n",
       "      <td>cellular</td>\n",
       "      <td>nov</td>\n",
       "      <td>tue</td>\n",
       "      <td>...</td>\n",
       "      <td>2</td>\n",
       "      <td>999</td>\n",
       "      <td>0</td>\n",
       "      <td>nonexistent</td>\n",
       "      <td>-0.1</td>\n",
       "      <td>93.200</td>\n",
       "      <td>-42.0</td>\n",
       "      <td>4.153</td>\n",
       "      <td>5195.8</td>\n",
       "      <td>no</td>\n",
       "    </tr>\n",
       "    <tr>\n",
       "      <th>28477</th>\n",
       "      <td>24</td>\n",
       "      <td>services</td>\n",
       "      <td>single</td>\n",
       "      <td>high.school</td>\n",
       "      <td>no</td>\n",
       "      <td>yes</td>\n",
       "      <td>no</td>\n",
       "      <td>cellular</td>\n",
       "      <td>apr</td>\n",
       "      <td>tue</td>\n",
       "      <td>...</td>\n",
       "      <td>1</td>\n",
       "      <td>999</td>\n",
       "      <td>0</td>\n",
       "      <td>nonexistent</td>\n",
       "      <td>-1.8</td>\n",
       "      <td>93.075</td>\n",
       "      <td>-47.1</td>\n",
       "      <td>1.423</td>\n",
       "      <td>5099.1</td>\n",
       "      <td>no</td>\n",
       "    </tr>\n",
       "    <tr>\n",
       "      <th>32516</th>\n",
       "      <td>35</td>\n",
       "      <td>admin.</td>\n",
       "      <td>married</td>\n",
       "      <td>university.degree</td>\n",
       "      <td>no</td>\n",
       "      <td>yes</td>\n",
       "      <td>no</td>\n",
       "      <td>cellular</td>\n",
       "      <td>may</td>\n",
       "      <td>fri</td>\n",
       "      <td>...</td>\n",
       "      <td>4</td>\n",
       "      <td>999</td>\n",
       "      <td>0</td>\n",
       "      <td>nonexistent</td>\n",
       "      <td>-1.8</td>\n",
       "      <td>92.893</td>\n",
       "      <td>-46.2</td>\n",
       "      <td>1.313</td>\n",
       "      <td>5099.1</td>\n",
       "      <td>no</td>\n",
       "    </tr>\n",
       "    <tr>\n",
       "      <th>36951</th>\n",
       "      <td>45</td>\n",
       "      <td>admin.</td>\n",
       "      <td>married</td>\n",
       "      <td>university.degree</td>\n",
       "      <td>no</td>\n",
       "      <td>no</td>\n",
       "      <td>no</td>\n",
       "      <td>cellular</td>\n",
       "      <td>jul</td>\n",
       "      <td>thu</td>\n",
       "      <td>...</td>\n",
       "      <td>1</td>\n",
       "      <td>999</td>\n",
       "      <td>0</td>\n",
       "      <td>nonexistent</td>\n",
       "      <td>-2.9</td>\n",
       "      <td>92.469</td>\n",
       "      <td>-33.6</td>\n",
       "      <td>1.072</td>\n",
       "      <td>5076.2</td>\n",
       "      <td>yes</td>\n",
       "    </tr>\n",
       "    <tr>\n",
       "      <th>38281</th>\n",
       "      <td>71</td>\n",
       "      <td>retired</td>\n",
       "      <td>single</td>\n",
       "      <td>university.degree</td>\n",
       "      <td>no</td>\n",
       "      <td>no</td>\n",
       "      <td>no</td>\n",
       "      <td>telephone</td>\n",
       "      <td>oct</td>\n",
       "      <td>tue</td>\n",
       "      <td>...</td>\n",
       "      <td>1</td>\n",
       "      <td>999</td>\n",
       "      <td>0</td>\n",
       "      <td>nonexistent</td>\n",
       "      <td>-3.4</td>\n",
       "      <td>92.431</td>\n",
       "      <td>-26.9</td>\n",
       "      <td>0.742</td>\n",
       "      <td>5017.5</td>\n",
       "      <td>no</td>\n",
       "    </tr>\n",
       "  </tbody>\n",
       "</table>\n",
       "<p>12 rows × 21 columns</p>\n",
       "</div>"
      ],
      "text/plain": [
       "       age          job   marital            education  default housing loan  \\\n",
       "1266    39  blue-collar   married             basic.6y       no      no   no   \n",
       "12261   36      retired   married              unknown       no      no   no   \n",
       "14234   27   technician    single  professional.course       no      no   no   \n",
       "16956   47   technician  divorced          high.school       no     yes   no   \n",
       "18465   32   technician    single  professional.course       no     yes   no   \n",
       "20216   55     services   married          high.school  unknown      no   no   \n",
       "20534   41   technician   married  professional.course       no     yes   no   \n",
       "25217   39       admin.   married    university.degree       no      no   no   \n",
       "28477   24     services    single          high.school       no     yes   no   \n",
       "32516   35       admin.   married    university.degree       no     yes   no   \n",
       "36951   45       admin.   married    university.degree       no      no   no   \n",
       "38281   71      retired    single    university.degree       no      no   no   \n",
       "\n",
       "         contact month day_of_week  ...  campaign  pdays  previous  \\\n",
       "1266   telephone   may         thu  ...         1    999         0   \n",
       "12261  telephone   jul         thu  ...         1    999         0   \n",
       "14234   cellular   jul         mon  ...         2    999         0   \n",
       "16956   cellular   jul         thu  ...         3    999         0   \n",
       "18465   cellular   jul         thu  ...         1    999         0   \n",
       "20216   cellular   aug         mon  ...         1    999         0   \n",
       "20534   cellular   aug         tue  ...         1    999         0   \n",
       "25217   cellular   nov         tue  ...         2    999         0   \n",
       "28477   cellular   apr         tue  ...         1    999         0   \n",
       "32516   cellular   may         fri  ...         4    999         0   \n",
       "36951   cellular   jul         thu  ...         1    999         0   \n",
       "38281  telephone   oct         tue  ...         1    999         0   \n",
       "\n",
       "          poutcome emp.var.rate  cons.price.idx  cons.conf.idx  euribor3m  \\\n",
       "1266   nonexistent          1.1          93.994          -36.4      4.855   \n",
       "12261  nonexistent          1.4          93.918          -42.7      4.966   \n",
       "14234  nonexistent          1.4          93.918          -42.7      4.962   \n",
       "16956  nonexistent          1.4          93.918          -42.7      4.962   \n",
       "18465  nonexistent          1.4          93.918          -42.7      4.968   \n",
       "20216  nonexistent          1.4          93.444          -36.1      4.965   \n",
       "20534  nonexistent          1.4          93.444          -36.1      4.966   \n",
       "25217  nonexistent         -0.1          93.200          -42.0      4.153   \n",
       "28477  nonexistent         -1.8          93.075          -47.1      1.423   \n",
       "32516  nonexistent         -1.8          92.893          -46.2      1.313   \n",
       "36951  nonexistent         -2.9          92.469          -33.6      1.072   \n",
       "38281  nonexistent         -3.4          92.431          -26.9      0.742   \n",
       "\n",
       "       nr.employed  subscribed  \n",
       "1266        5191.0          no  \n",
       "12261       5228.1          no  \n",
       "14234       5228.1          no  \n",
       "16956       5228.1          no  \n",
       "18465       5228.1          no  \n",
       "20216       5228.1          no  \n",
       "20534       5228.1          no  \n",
       "25217       5195.8          no  \n",
       "28477       5099.1          no  \n",
       "32516       5099.1          no  \n",
       "36951       5076.2         yes  \n",
       "38281       5017.5          no  \n",
       "\n",
       "[12 rows x 21 columns]"
      ]
     },
     "execution_count": 150,
     "metadata": {},
     "output_type": "execute_result"
    }
   ],
   "source": [
    "df[df.duplicated()]"
   ]
  },
  {
   "cell_type": "code",
   "execution_count": 151,
   "id": "14ea7b40",
   "metadata": {},
   "outputs": [
    {
     "data": {
      "text/plain": [
       "Index(['age', 'job', 'marital', 'education', 'default', 'housing', 'loan',\n",
       "       'contact', 'month', 'day_of_week', 'duration', 'campaign', 'pdays',\n",
       "       'previous', 'poutcome', 'emp.var.rate', 'cons.price.idx',\n",
       "       'cons.conf.idx', 'euribor3m', 'nr.employed', 'subscribed'],\n",
       "      dtype='object')"
      ]
     },
     "execution_count": 151,
     "metadata": {},
     "output_type": "execute_result"
    }
   ],
   "source": [
    "df.columns"
   ]
  },
  {
   "cell_type": "code",
   "execution_count": 152,
   "id": "7ae57fc4",
   "metadata": {},
   "outputs": [],
   "source": [
    "subset = ['age', 'job', 'marital', 'education','default', 'housing', 'loan', 'contact','duration', 'campaign']"
   ]
  },
  {
   "cell_type": "code",
   "execution_count": 153,
   "id": "c80a247c",
   "metadata": {},
   "outputs": [
    {
     "data": {
      "text/html": [
       "<div>\n",
       "<style scoped>\n",
       "    .dataframe tbody tr th:only-of-type {\n",
       "        vertical-align: middle;\n",
       "    }\n",
       "\n",
       "    .dataframe tbody tr th {\n",
       "        vertical-align: top;\n",
       "    }\n",
       "\n",
       "    .dataframe thead th {\n",
       "        text-align: right;\n",
       "    }\n",
       "</style>\n",
       "<table border=\"1\" class=\"dataframe\">\n",
       "  <thead>\n",
       "    <tr style=\"text-align: right;\">\n",
       "      <th></th>\n",
       "      <th>age</th>\n",
       "      <th>job</th>\n",
       "      <th>marital</th>\n",
       "      <th>education</th>\n",
       "      <th>default</th>\n",
       "      <th>housing</th>\n",
       "      <th>loan</th>\n",
       "      <th>contact</th>\n",
       "      <th>month</th>\n",
       "      <th>day_of_week</th>\n",
       "      <th>...</th>\n",
       "      <th>campaign</th>\n",
       "      <th>pdays</th>\n",
       "      <th>previous</th>\n",
       "      <th>poutcome</th>\n",
       "      <th>emp.var.rate</th>\n",
       "      <th>cons.price.idx</th>\n",
       "      <th>cons.conf.idx</th>\n",
       "      <th>euribor3m</th>\n",
       "      <th>nr.employed</th>\n",
       "      <th>subscribed</th>\n",
       "    </tr>\n",
       "  </thead>\n",
       "  <tbody>\n",
       "    <tr>\n",
       "      <th>1179</th>\n",
       "      <td>44</td>\n",
       "      <td>technician</td>\n",
       "      <td>married</td>\n",
       "      <td>professional.course</td>\n",
       "      <td>unknown</td>\n",
       "      <td>no</td>\n",
       "      <td>no</td>\n",
       "      <td>telephone</td>\n",
       "      <td>may</td>\n",
       "      <td>thu</td>\n",
       "      <td>...</td>\n",
       "      <td>1</td>\n",
       "      <td>999</td>\n",
       "      <td>0</td>\n",
       "      <td>nonexistent</td>\n",
       "      <td>1.1</td>\n",
       "      <td>93.994</td>\n",
       "      <td>-36.4</td>\n",
       "      <td>4.855</td>\n",
       "      <td>5191.0</td>\n",
       "      <td>no</td>\n",
       "    </tr>\n",
       "    <tr>\n",
       "      <th>1266</th>\n",
       "      <td>39</td>\n",
       "      <td>blue-collar</td>\n",
       "      <td>married</td>\n",
       "      <td>basic.6y</td>\n",
       "      <td>no</td>\n",
       "      <td>no</td>\n",
       "      <td>no</td>\n",
       "      <td>telephone</td>\n",
       "      <td>may</td>\n",
       "      <td>thu</td>\n",
       "      <td>...</td>\n",
       "      <td>1</td>\n",
       "      <td>999</td>\n",
       "      <td>0</td>\n",
       "      <td>nonexistent</td>\n",
       "      <td>1.1</td>\n",
       "      <td>93.994</td>\n",
       "      <td>-36.4</td>\n",
       "      <td>4.855</td>\n",
       "      <td>5191.0</td>\n",
       "      <td>no</td>\n",
       "    </tr>\n",
       "    <tr>\n",
       "      <th>4030</th>\n",
       "      <td>32</td>\n",
       "      <td>admin.</td>\n",
       "      <td>married</td>\n",
       "      <td>high.school</td>\n",
       "      <td>no</td>\n",
       "      <td>no</td>\n",
       "      <td>no</td>\n",
       "      <td>telephone</td>\n",
       "      <td>may</td>\n",
       "      <td>mon</td>\n",
       "      <td>...</td>\n",
       "      <td>1</td>\n",
       "      <td>999</td>\n",
       "      <td>0</td>\n",
       "      <td>nonexistent</td>\n",
       "      <td>1.1</td>\n",
       "      <td>93.994</td>\n",
       "      <td>-36.4</td>\n",
       "      <td>4.858</td>\n",
       "      <td>5191.0</td>\n",
       "      <td>no</td>\n",
       "    </tr>\n",
       "    <tr>\n",
       "      <th>4348</th>\n",
       "      <td>45</td>\n",
       "      <td>blue-collar</td>\n",
       "      <td>married</td>\n",
       "      <td>basic.9y</td>\n",
       "      <td>unknown</td>\n",
       "      <td>no</td>\n",
       "      <td>no</td>\n",
       "      <td>telephone</td>\n",
       "      <td>may</td>\n",
       "      <td>tue</td>\n",
       "      <td>...</td>\n",
       "      <td>1</td>\n",
       "      <td>999</td>\n",
       "      <td>0</td>\n",
       "      <td>nonexistent</td>\n",
       "      <td>1.1</td>\n",
       "      <td>93.994</td>\n",
       "      <td>-36.4</td>\n",
       "      <td>4.856</td>\n",
       "      <td>5191.0</td>\n",
       "      <td>no</td>\n",
       "    </tr>\n",
       "    <tr>\n",
       "      <th>5581</th>\n",
       "      <td>45</td>\n",
       "      <td>blue-collar</td>\n",
       "      <td>married</td>\n",
       "      <td>basic.4y</td>\n",
       "      <td>no</td>\n",
       "      <td>no</td>\n",
       "      <td>no</td>\n",
       "      <td>telephone</td>\n",
       "      <td>may</td>\n",
       "      <td>mon</td>\n",
       "      <td>...</td>\n",
       "      <td>1</td>\n",
       "      <td>999</td>\n",
       "      <td>0</td>\n",
       "      <td>nonexistent</td>\n",
       "      <td>1.1</td>\n",
       "      <td>93.994</td>\n",
       "      <td>-36.4</td>\n",
       "      <td>4.857</td>\n",
       "      <td>5191.0</td>\n",
       "      <td>no</td>\n",
       "    </tr>\n",
       "    <tr>\n",
       "      <th>...</th>\n",
       "      <td>...</td>\n",
       "      <td>...</td>\n",
       "      <td>...</td>\n",
       "      <td>...</td>\n",
       "      <td>...</td>\n",
       "      <td>...</td>\n",
       "      <td>...</td>\n",
       "      <td>...</td>\n",
       "      <td>...</td>\n",
       "      <td>...</td>\n",
       "      <td>...</td>\n",
       "      <td>...</td>\n",
       "      <td>...</td>\n",
       "      <td>...</td>\n",
       "      <td>...</td>\n",
       "      <td>...</td>\n",
       "      <td>...</td>\n",
       "      <td>...</td>\n",
       "      <td>...</td>\n",
       "      <td>...</td>\n",
       "      <td>...</td>\n",
       "    </tr>\n",
       "    <tr>\n",
       "      <th>40110</th>\n",
       "      <td>33</td>\n",
       "      <td>admin.</td>\n",
       "      <td>single</td>\n",
       "      <td>university.degree</td>\n",
       "      <td>no</td>\n",
       "      <td>yes</td>\n",
       "      <td>no</td>\n",
       "      <td>cellular</td>\n",
       "      <td>jul</td>\n",
       "      <td>mon</td>\n",
       "      <td>...</td>\n",
       "      <td>1</td>\n",
       "      <td>999</td>\n",
       "      <td>1</td>\n",
       "      <td>failure</td>\n",
       "      <td>-1.7</td>\n",
       "      <td>94.215</td>\n",
       "      <td>-40.3</td>\n",
       "      <td>0.827</td>\n",
       "      <td>4991.6</td>\n",
       "      <td>no</td>\n",
       "    </tr>\n",
       "    <tr>\n",
       "      <th>40114</th>\n",
       "      <td>73</td>\n",
       "      <td>retired</td>\n",
       "      <td>married</td>\n",
       "      <td>basic.4y</td>\n",
       "      <td>no</td>\n",
       "      <td>yes</td>\n",
       "      <td>no</td>\n",
       "      <td>cellular</td>\n",
       "      <td>jul</td>\n",
       "      <td>tue</td>\n",
       "      <td>...</td>\n",
       "      <td>1</td>\n",
       "      <td>999</td>\n",
       "      <td>0</td>\n",
       "      <td>nonexistent</td>\n",
       "      <td>-1.7</td>\n",
       "      <td>94.215</td>\n",
       "      <td>-40.3</td>\n",
       "      <td>0.835</td>\n",
       "      <td>4991.6</td>\n",
       "      <td>yes</td>\n",
       "    </tr>\n",
       "    <tr>\n",
       "      <th>40248</th>\n",
       "      <td>29</td>\n",
       "      <td>admin.</td>\n",
       "      <td>single</td>\n",
       "      <td>university.degree</td>\n",
       "      <td>no</td>\n",
       "      <td>yes</td>\n",
       "      <td>no</td>\n",
       "      <td>cellular</td>\n",
       "      <td>jul</td>\n",
       "      <td>mon</td>\n",
       "      <td>...</td>\n",
       "      <td>2</td>\n",
       "      <td>999</td>\n",
       "      <td>1</td>\n",
       "      <td>failure</td>\n",
       "      <td>-1.7</td>\n",
       "      <td>94.215</td>\n",
       "      <td>-40.3</td>\n",
       "      <td>0.889</td>\n",
       "      <td>4991.6</td>\n",
       "      <td>no</td>\n",
       "    </tr>\n",
       "    <tr>\n",
       "      <th>40264</th>\n",
       "      <td>32</td>\n",
       "      <td>admin.</td>\n",
       "      <td>single</td>\n",
       "      <td>university.degree</td>\n",
       "      <td>no</td>\n",
       "      <td>yes</td>\n",
       "      <td>no</td>\n",
       "      <td>cellular</td>\n",
       "      <td>jul</td>\n",
       "      <td>tue</td>\n",
       "      <td>...</td>\n",
       "      <td>1</td>\n",
       "      <td>999</td>\n",
       "      <td>1</td>\n",
       "      <td>failure</td>\n",
       "      <td>-1.7</td>\n",
       "      <td>94.215</td>\n",
       "      <td>-40.3</td>\n",
       "      <td>0.893</td>\n",
       "      <td>4991.6</td>\n",
       "      <td>no</td>\n",
       "    </tr>\n",
       "    <tr>\n",
       "      <th>41030</th>\n",
       "      <td>28</td>\n",
       "      <td>admin.</td>\n",
       "      <td>single</td>\n",
       "      <td>university.degree</td>\n",
       "      <td>no</td>\n",
       "      <td>no</td>\n",
       "      <td>no</td>\n",
       "      <td>cellular</td>\n",
       "      <td>oct</td>\n",
       "      <td>mon</td>\n",
       "      <td>...</td>\n",
       "      <td>1</td>\n",
       "      <td>3</td>\n",
       "      <td>3</td>\n",
       "      <td>success</td>\n",
       "      <td>-1.1</td>\n",
       "      <td>94.601</td>\n",
       "      <td>-49.5</td>\n",
       "      <td>1.032</td>\n",
       "      <td>4963.6</td>\n",
       "      <td>yes</td>\n",
       "    </tr>\n",
       "  </tbody>\n",
       "</table>\n",
       "<p>104 rows × 21 columns</p>\n",
       "</div>"
      ],
      "text/plain": [
       "       age          job  marital            education  default housing loan  \\\n",
       "1179    44   technician  married  professional.course  unknown      no   no   \n",
       "1266    39  blue-collar  married             basic.6y       no      no   no   \n",
       "4030    32       admin.  married          high.school       no      no   no   \n",
       "4348    45  blue-collar  married             basic.9y  unknown      no   no   \n",
       "5581    45  blue-collar  married             basic.4y       no      no   no   \n",
       "...    ...          ...      ...                  ...      ...     ...  ...   \n",
       "40110   33       admin.   single    university.degree       no     yes   no   \n",
       "40114   73      retired  married             basic.4y       no     yes   no   \n",
       "40248   29       admin.   single    university.degree       no     yes   no   \n",
       "40264   32       admin.   single    university.degree       no     yes   no   \n",
       "41030   28       admin.   single    university.degree       no      no   no   \n",
       "\n",
       "         contact month day_of_week  ...  campaign  pdays  previous  \\\n",
       "1179   telephone   may         thu  ...         1    999         0   \n",
       "1266   telephone   may         thu  ...         1    999         0   \n",
       "4030   telephone   may         mon  ...         1    999         0   \n",
       "4348   telephone   may         tue  ...         1    999         0   \n",
       "5581   telephone   may         mon  ...         1    999         0   \n",
       "...          ...   ...         ...  ...       ...    ...       ...   \n",
       "40110   cellular   jul         mon  ...         1    999         1   \n",
       "40114   cellular   jul         tue  ...         1    999         0   \n",
       "40248   cellular   jul         mon  ...         2    999         1   \n",
       "40264   cellular   jul         tue  ...         1    999         1   \n",
       "41030   cellular   oct         mon  ...         1      3         3   \n",
       "\n",
       "          poutcome emp.var.rate  cons.price.idx  cons.conf.idx  euribor3m  \\\n",
       "1179   nonexistent          1.1          93.994          -36.4      4.855   \n",
       "1266   nonexistent          1.1          93.994          -36.4      4.855   \n",
       "4030   nonexistent          1.1          93.994          -36.4      4.858   \n",
       "4348   nonexistent          1.1          93.994          -36.4      4.856   \n",
       "5581   nonexistent          1.1          93.994          -36.4      4.857   \n",
       "...            ...          ...             ...            ...        ...   \n",
       "40110      failure         -1.7          94.215          -40.3      0.827   \n",
       "40114  nonexistent         -1.7          94.215          -40.3      0.835   \n",
       "40248      failure         -1.7          94.215          -40.3      0.889   \n",
       "40264      failure         -1.7          94.215          -40.3      0.893   \n",
       "41030      success         -1.1          94.601          -49.5      1.032   \n",
       "\n",
       "       nr.employed  subscribed  \n",
       "1179        5191.0          no  \n",
       "1266        5191.0          no  \n",
       "4030        5191.0          no  \n",
       "4348        5191.0          no  \n",
       "5581        5191.0          no  \n",
       "...            ...         ...  \n",
       "40110       4991.6          no  \n",
       "40114       4991.6         yes  \n",
       "40248       4991.6          no  \n",
       "40264       4991.6          no  \n",
       "41030       4963.6         yes  \n",
       "\n",
       "[104 rows x 21 columns]"
      ]
     },
     "execution_count": 153,
     "metadata": {},
     "output_type": "execute_result"
    }
   ],
   "source": [
    "df[df.duplicated(subset=subset)]"
   ]
  },
  {
   "cell_type": "code",
   "execution_count": 154,
   "id": "4d12daf8",
   "metadata": {},
   "outputs": [],
   "source": [
    "df2 = df.drop_duplicates(subset = subset)"
   ]
  },
  {
   "cell_type": "code",
   "execution_count": 155,
   "id": "73ca8611",
   "metadata": {},
   "outputs": [
    {
     "data": {
      "text/plain": [
       "age               0\n",
       "job               0\n",
       "marital           0\n",
       "education         0\n",
       "default           0\n",
       "housing           0\n",
       "loan              0\n",
       "contact           0\n",
       "month             0\n",
       "day_of_week       0\n",
       "duration          0\n",
       "campaign          0\n",
       "pdays             0\n",
       "previous          0\n",
       "poutcome          0\n",
       "emp.var.rate      0\n",
       "cons.price.idx    0\n",
       "cons.conf.idx     0\n",
       "euribor3m         0\n",
       "nr.employed       0\n",
       "subscribed        0\n",
       "dtype: int64"
      ]
     },
     "execution_count": 155,
     "metadata": {},
     "output_type": "execute_result"
    }
   ],
   "source": [
    "df2.isna().sum()"
   ]
  },
  {
   "cell_type": "code",
   "execution_count": 156,
   "id": "afafa726",
   "metadata": {},
   "outputs": [
    {
     "data": {
      "image/png": "[encoded data removed]",
      "text/plain": [
       "<Figure size 800x400 with 1 Axes>"
      ]
     },
     "metadata": {
      "needs_background": "light"
     },
     "output_type": "display_data"
    }
   ],
   "source": [
    "plt.figure(figsize = (8,4), dpi = 100)\n",
    "#plot a histograme of age\n",
    "sns.histplot(data = df2, x = 'age', bins = 40, kde = True)\n",
    "#show the figure\n",
    "plt.show()"
   ]
  },
  {
   "cell_type": "code",
   "execution_count": 157,
   "id": "fde81392",
   "metadata": {},
   "outputs": [
    {
     "data": {
      "image/png": "[encoded data removed]",
      "text/plain": [
       "<Figure size 800x400 with 1 Axes>"
      ]
     },
     "metadata": {
      "needs_background": "light"
     },
     "output_type": "display_data"
    }
   ],
   "source": [
    "plt.figure(figsize = (8,4), dpi = 100) \n",
    "#plot a histograme of age\n",
    "sns.histplot(data = df2, x = 'age', bins = 40, hue = 'subscribed')\n",
    "#show the figure\n",
    "plt.show()"
   ]
  },
  {
   "cell_type": "code",
   "execution_count": 158,
   "id": "5d48b335",
   "metadata": {},
   "outputs": [
    {
     "data": {
      "image/png": "[encoded data removed]",
      "text/plain": [
       "<Figure size 800x400 with 1 Axes>"
      ]
     },
     "metadata": {
      "needs_background": "light"
     },
     "output_type": "display_data"
    }
   ],
   "source": [
    "plt.figure(figsize = (8,4), dpi = 100) \n",
    "#plot a histograme of age\n",
    "sns.histplot(data = df2, x = 'pdays', bins = 40)\n",
    "#show the figure\n",
    "plt.show()"
   ]
  },
  {
   "cell_type": "code",
   "execution_count": 159,
   "id": "3ec16dbf",
   "metadata": {},
   "outputs": [
    {
     "data": {
      "image/png": "[encoded data removed]",
      "text/plain": [
       "<Figure size 800x400 with 1 Axes>"
      ]
     },
     "metadata": {
      "needs_background": "light"
     },
     "output_type": "display_data"
    }
   ],
   "source": [
    "#intiate a figure \n",
    "plt.figure(figsize = (8,4), dpi = 100)\n",
    "#filter the dataframe\n",
    "data = df2[df2.pdays != 999]\n",
    "#plot a histograme of age\n",
    "sns.histplot(data = data, x = 'pdays', hue='subscribed')\n",
    "#show the figure\n",
    "plt.show()"
   ]
  },
  {
   "cell_type": "code",
   "execution_count": 205,
   "id": "fe0db346",
   "metadata": {},
   "outputs": [
    {
     "data": {
      "image/png": "[encoded data removed]",
      "text/plain": [
       "<Figure size 800x400 with 1 Axes>"
      ]
     },
     "metadata": {
      "needs_background": "light"
     },
     "output_type": "display_data"
    }
   ],
   "source": [
    "#intiate a figure \n",
    "plt.figure(figsize = (8,4), dpi = 100)\n",
    "#filter the dataframe\n",
    "\n",
    "sns.histplot(data = data, x = 'contact', hue='subscribed')\n",
    "#show the figure\n",
    "plt.show()"
   ]
  },
  {
   "cell_type": "code",
   "execution_count": 161,
   "id": "c3cc3ee5",
   "metadata": {},
   "outputs": [
    {
     "data": {
      "image/png": "[encoded data removed]",
      "text/plain": [
       "<Figure size 800x400 with 1 Axes>"
      ]
     },
     "metadata": {
      "needs_background": "light"
     },
     "output_type": "display_data"
    }
   ],
   "source": [
    "plt.figure(figsize = (8,4), dpi = 100)\n",
    "#hist plot\n",
    "sns.histplot(data = df2, x = 'duration')\n",
    "#x limit\n",
    "plt.xlim(0,1000)\n",
    "#show the figure\n",
    "plt.show()"
   ]
  },
  {
   "cell_type": "code",
   "execution_count": 162,
   "id": "2a2809d1",
   "metadata": {},
   "outputs": [
    {
     "data": {
      "image/png": "[encoded data removed]",
      "text/plain": [
       "<Figure size 800x400 with 1 Axes>"
      ]
     },
     "metadata": {
      "needs_background": "light"
     },
     "output_type": "display_data"
    }
   ],
   "source": [
    "#intiate a figure \n",
    "plt.figure(figsize = (8,4), dpi = 100)\n",
    "#hist plot\n",
    "sns.histplot(data = df2, x = 'duration', hue = 'subscribed')\n",
    "#x limit\n",
    "plt.xlim(0,1000)\n",
    "#show the figure\n",
    "plt.show()"
   ]
  },
  {
   "cell_type": "code",
   "execution_count": 163,
   "id": "e9ec4a20",
   "metadata": {},
   "outputs": [
    {
     "data": {
      "image/png": "[encoded data removed]",
      "text/plain": [
       "<Figure size 800x400 with 1 Axes>"
      ]
     },
     "metadata": {
      "needs_background": "light"
     },
     "output_type": "display_data"
    }
   ],
   "source": [
    "plt.figure(figsize = (8,4), dpi = 100)\n",
    "#order \n",
    "order = df2['job'].value_counts().index\n",
    "#count plot\n",
    "sns.histplot(data = df2, x = 'job', hue = 'subscribed')\n",
    "#rotate xticks \n",
    "plt.xticks(rotation = 90)\n",
    "#show the figure\n",
    "plt.show()"
   ]
  },
  {
   "cell_type": "code",
   "execution_count": 164,
   "id": "74d602ac",
   "metadata": {},
   "outputs": [
    {
     "data": {
      "image/png": "[encoded data removed]",
      "text/plain": [
       "<Figure size 800x400 with 1 Axes>"
      ]
     },
     "metadata": {
      "needs_background": "light"
     },
     "output_type": "display_data"
    }
   ],
   "source": [
    "#intiate a figure \n",
    "plt.figure(figsize = (8,4), dpi = 100)\n",
    "#order \n",
    "order = df['education'].value_counts().index\n",
    "#count plot\n",
    "sns.histplot(data = df2, x = 'education', hue = 'subscribed')\n",
    "#rotate xticks \n",
    "plt.xticks(rotation = 90)\n",
    "#show the figure\n",
    "plt.show()\n"
   ]
  },
  {
   "cell_type": "code",
   "execution_count": 165,
   "id": "d74b841e",
   "metadata": {},
   "outputs": [
    {
     "data": {
      "image/png": "[encoded data removed]",
      "text/plain": [
       "<Figure size 800x400 with 1 Axes>"
      ]
     },
     "metadata": {
      "needs_background": "light"
     },
     "output_type": "display_data"
    }
   ],
   "source": [
    "plt.figure(figsize = (8,4), dpi = 100)\n",
    "#order \n",
    "order = df['default'].value_counts().index\n",
    "#count plot\n",
    "sns.histplot(data = df2, x = 'default', hue = 'subscribed')\n",
    "#rotate xticks \n",
    "plt.xticks(rotation = 90)\n",
    "#show the figure\n",
    "plt.show()"
   ]
  },
  {
   "cell_type": "code",
   "execution_count": 166,
   "id": "c37e3fda",
   "metadata": {},
   "outputs": [
    {
     "name": "stdout",
     "output_type": "stream",
     "text": [
      "job: ['housemaid' 'services' 'admin.' 'blue-collar' 'technician' 'retired'\n",
      " 'management' 'unemployed' 'self-employed' 'unknown' 'entrepreneur'\n",
      " 'student']\n",
      "marital: ['married' 'single' 'divorced' 'unknown']\n",
      "education: ['basic.4y' 'high.school' 'basic.6y' 'basic.9y' 'professional.course'\n",
      " 'unknown' 'university.degree' 'illiterate']\n",
      "default: ['no' 'unknown' 'yes']\n",
      "housing: ['no' 'yes' 'unknown']\n",
      "loan: ['no' 'yes' 'unknown']\n",
      "contact: ['telephone' 'cellular']\n",
      "month: ['may' 'jun' 'jul' 'aug' 'oct' 'nov' 'dec' 'mar' 'apr' 'sep']\n",
      "day_of_week: ['mon' 'tue' 'wed' 'thu' 'fri']\n",
      "poutcome: ['nonexistent' 'failure' 'success']\n",
      "subscribed: ['no' 'yes']\n"
     ]
    }
   ],
   "source": [
    "def print_unique_col_values(df):\n",
    "       for column in df:\n",
    "            if df[column].dtypes=='object':\n",
    "                print(f'{column}: {df[column].unique()}') \n",
    "\n",
    "print_unique_col_values(df2)"
   ]
  },
  {
   "cell_type": "code",
   "execution_count": 167,
   "id": "089c73ed",
   "metadata": {},
   "outputs": [
    {
     "data": {
      "text/plain": [
       "Index(['age', 'job', 'marital', 'education', 'default', 'housing', 'loan',\n",
       "       'contact', 'month', 'day_of_week', 'duration', 'campaign', 'pdays',\n",
       "       'previous', 'poutcome', 'emp.var.rate', 'cons.price.idx',\n",
       "       'cons.conf.idx', 'euribor3m', 'nr.employed', 'subscribed'],\n",
       "      dtype='object')"
      ]
     },
     "execution_count": 167,
     "metadata": {},
     "output_type": "execute_result"
    }
   ],
   "source": [
    "df2.columns"
   ]
  },
  {
   "cell_type": "code",
   "execution_count": 168,
   "id": "f940ca60",
   "metadata": {},
   "outputs": [
    {
     "name": "stdout",
     "output_type": "stream",
     "text": [
      "emp.var.rate: [ 1.1  1.4 -0.1 -0.2 -1.8 -2.9 -3.4 -3.  -1.7 -1.1]\n",
      "cons.price.idx: [93.994 94.465 93.918 93.444 93.798 93.2   92.756 92.843 93.075 92.893\n",
      " 92.963 92.469 92.201 92.379 92.431 92.649 92.713 93.369 93.749 93.876\n",
      " 94.055 94.215 94.027 94.199 94.601 94.767]\n",
      "cons.conf.idx: [-36.4 -41.8 -42.7 -36.1 -40.4 -42.  -45.9 -50.  -47.1 -46.2 -40.8 -33.6\n",
      " -31.4 -29.8 -26.9 -30.1 -33.  -34.8 -34.6 -40.  -39.8 -40.3 -38.3 -37.5\n",
      " -49.5 -50.8]\n",
      "euribor3m: [4.857 4.856 4.855 4.859 4.86  4.858 4.864 4.865 4.866 4.967 4.961 4.959\n",
      " 4.958 4.96  4.962 4.955 4.947 4.956 4.966 4.963 4.957 4.968 4.97  4.965\n",
      " 4.964 5.045 5.    4.936 4.921 4.918 4.912 4.827 4.794 4.76  4.733 4.7\n",
      " 4.663 4.592 4.474 4.406 4.343 4.286 4.245 4.223 4.191 4.153 4.12  4.076\n",
      " 4.021 3.901 3.879 3.853 3.816 3.743 3.669 3.563 3.488 3.428 3.329 3.282\n",
      " 3.053 1.811 1.799 1.778 1.757 1.726 1.703 1.687 1.663 1.65  1.64  1.629\n",
      " 1.614 1.602 1.584 1.574 1.56  1.556 1.548 1.538 1.531 1.52  1.51  1.498\n",
      " 1.483 1.479 1.466 1.453 1.445 1.435 1.423 1.415 1.41  1.405 1.406 1.4\n",
      " 1.392 1.384 1.372 1.365 1.354 1.344 1.334 1.327 1.313 1.299 1.291 1.281\n",
      " 1.266 1.25  1.244 1.259 1.264 1.27  1.262 1.26  1.268 1.286 1.252 1.235\n",
      " 1.224 1.215 1.206 1.099 1.085 1.072 1.059 1.048 1.044 1.029 1.018 1.007\n",
      " 0.996 0.979 0.969 0.944 0.937 0.933 0.927 0.921 0.914 0.908 0.903 0.899\n",
      " 0.884 0.883 0.881 0.879 0.873 0.869 0.861 0.859 0.854 0.851 0.849 0.843\n",
      " 0.838 0.834 0.829 0.825 0.821 0.819 0.813 0.809 0.803 0.797 0.788 0.781\n",
      " 0.778 0.773 0.771 0.77  0.768 0.766 0.762 0.755 0.749 0.743 0.741 0.739\n",
      " 0.75  0.753 0.754 0.752 0.744 0.74  0.742 0.737 0.735 0.733 0.73  0.731\n",
      " 0.728 0.724 0.722 0.72  0.719 0.716 0.715 0.714 0.718 0.721 0.717 0.712\n",
      " 0.71  0.709 0.708 0.706 0.707 0.7   0.655 0.654 0.653 0.652 0.651 0.65\n",
      " 0.649 0.646 0.644 0.643 0.639 0.637 0.635 0.636 0.634 0.638 0.64  0.642\n",
      " 0.645 0.659 0.663 0.668 0.672 0.677 0.682 0.683 0.684 0.685 0.688 0.69\n",
      " 0.692 0.695 0.697 0.699 0.701 0.702 0.704 0.711 0.713 0.723 0.727 0.729\n",
      " 0.732 0.748 0.761 0.767 0.782 0.79  0.793 0.802 0.81  0.822 0.827 0.835\n",
      " 0.84  0.846 0.87  0.876 0.885 0.889 0.893 0.896 0.898 0.9   0.904 0.905\n",
      " 0.895 0.894 0.891 0.89  0.888 0.886 0.882 0.88  0.878 0.877 0.942 0.953\n",
      " 0.956 0.959 0.965 0.972 0.977 0.982 0.985 0.987 0.993 1.    1.008 1.016\n",
      " 1.025 1.032 1.037 1.043 1.045 1.047 1.05  1.049 1.046 1.041 1.04  1.039\n",
      " 1.035 1.03  1.031 1.028]\n",
      "nr.employed: [5191.  5228.1 5195.8 5176.3 5099.1 5076.2 5017.5 5023.5 5008.7 4991.6\n",
      " 4963.6]\n"
     ]
    }
   ],
   "source": [
    "def print_unique_col_values_float(df):\n",
    "       for column in df:\n",
    "            if df[column].dtypes=='float':\n",
    "                print(f'{column}: {df[column].unique()}') \n",
    "\n",
    "print_unique_col_values_float(df2)"
   ]
  },
  {
   "cell_type": "code",
   "execution_count": 169,
   "id": "1f6d4e0c",
   "metadata": {},
   "outputs": [
    {
     "name": "stdout",
     "output_type": "stream",
     "text": [
      "age: [56 57 37 40 45 59 41 24 25 29 35 54 46 50 39 30 55 49 34 52 58 32 38 44\n",
      " 42 60 53 47 51 48 33 31 43 36 28 27 26 22 23 20 21 61 19 18 70 66 76 67\n",
      " 73 88 95 77 68 75 63 80 62 65 72 82 64 71 69 78 85 79 83 81 74 17 87 91\n",
      " 86 98 94 84 92 89]\n",
      "duration: [ 261  149  226 ... 1246 1556 1868]\n",
      "campaign: [ 1  2  3  4  5  6  7  8  9 10 11 12 13 19 18 23 14 22 25 16 17 15 20 56\n",
      " 39 35 42 28 26 27 32 21 24 29 31 30 41 37 40 33 34 43]\n",
      "pdays: [999   6   4   3   5   1   0  10   7   8   9  11   2  12  13  14  15  16\n",
      "  21  17  18  22  25  26  19  27  20]\n",
      "previous: [0 1 2 3 4 5 6 7]\n"
     ]
    }
   ],
   "source": [
    "def print_unique_col_values_int(df):\n",
    "       for column in df:\n",
    "            if df[column].dtypes=='int':\n",
    "                print(f'{column}: {df[column].unique()}') \n",
    "\n",
    "print_unique_col_values_int(df2)"
   ]
  },
  {
   "cell_type": "code",
   "execution_count": 170,
   "id": "3b96c6f7",
   "metadata": {},
   "outputs": [
    {
     "name": "stderr",
     "output_type": "stream",
     "text": [
      "/var/folders/8w/snj_8lln2bz87z87f46_k0t00000gn/T/ipykernel_58735/3783016224.py:1: SettingWithCopyWarning: \n",
      "A value is trying to be set on a copy of a slice from a DataFrame\n",
      "\n",
      "See the caveats in the documentation: https://pandas.pydata.org/pandas-docs/stable/user_guide/indexing.html#returning-a-view-versus-a-copy\n",
      "  df2.replace('unknown', np.nan, inplace=True)\n"
     ]
    }
   ],
   "source": [
    "df2.replace('unknown', np.nan, inplace=True)"
   ]
  },
  {
   "cell_type": "code",
   "execution_count": 171,
   "id": "068c1372",
   "metadata": {},
   "outputs": [
    {
     "data": {
      "text/plain": [
       "age                  0\n",
       "job                330\n",
       "marital             80\n",
       "education         1729\n",
       "default           8584\n",
       "housing            989\n",
       "loan               989\n",
       "contact              0\n",
       "month                0\n",
       "day_of_week          0\n",
       "duration             0\n",
       "campaign             0\n",
       "pdays                0\n",
       "previous             0\n",
       "poutcome             0\n",
       "emp.var.rate         0\n",
       "cons.price.idx       0\n",
       "cons.conf.idx        0\n",
       "euribor3m            0\n",
       "nr.employed          0\n",
       "subscribed           0\n",
       "dtype: int64"
      ]
     },
     "execution_count": 171,
     "metadata": {},
     "output_type": "execute_result"
    }
   ],
   "source": [
    "df2.isnull().sum()"
   ]
  },
  {
   "cell_type": "code",
   "execution_count": 172,
   "id": "5de10fd8",
   "metadata": {},
   "outputs": [],
   "source": [
    "df3=df2.drop(['default','duration'],axis=1) #since they are very indicative of the target variable"
   ]
  },
  {
   "cell_type": "code",
   "execution_count": 173,
   "id": "829e5192",
   "metadata": {},
   "outputs": [],
   "source": [
    "df3.dropna(inplace=True)"
   ]
  },
  {
   "cell_type": "code",
   "execution_count": 174,
   "id": "2eae7782",
   "metadata": {},
   "outputs": [
    {
     "data": {
      "text/plain": [
       "(38144, 19)"
      ]
     },
     "execution_count": 174,
     "metadata": {},
     "output_type": "execute_result"
    }
   ],
   "source": [
    "df3.shape"
   ]
  },
  {
   "cell_type": "code",
   "execution_count": 175,
   "id": "fb52be8e",
   "metadata": {},
   "outputs": [
    {
     "data": {
      "text/html": [
       "<div>\n",
       "<style scoped>\n",
       "    .dataframe tbody tr th:only-of-type {\n",
       "        vertical-align: middle;\n",
       "    }\n",
       "\n",
       "    .dataframe tbody tr th {\n",
       "        vertical-align: top;\n",
       "    }\n",
       "\n",
       "    .dataframe thead th {\n",
       "        text-align: right;\n",
       "    }\n",
       "</style>\n",
       "<table border=\"1\" class=\"dataframe\">\n",
       "  <thead>\n",
       "    <tr style=\"text-align: right;\">\n",
       "      <th></th>\n",
       "      <th>age</th>\n",
       "      <th>job</th>\n",
       "      <th>marital</th>\n",
       "      <th>education</th>\n",
       "      <th>housing</th>\n",
       "      <th>loan</th>\n",
       "      <th>contact</th>\n",
       "      <th>month</th>\n",
       "      <th>day_of_week</th>\n",
       "      <th>campaign</th>\n",
       "      <th>pdays</th>\n",
       "      <th>previous</th>\n",
       "      <th>poutcome</th>\n",
       "      <th>emp.var.rate</th>\n",
       "      <th>cons.price.idx</th>\n",
       "      <th>cons.conf.idx</th>\n",
       "      <th>euribor3m</th>\n",
       "      <th>nr.employed</th>\n",
       "      <th>subscribed</th>\n",
       "    </tr>\n",
       "  </thead>\n",
       "  <tbody>\n",
       "    <tr>\n",
       "      <th>0</th>\n",
       "      <td>56</td>\n",
       "      <td>housemaid</td>\n",
       "      <td>married</td>\n",
       "      <td>basic.4y</td>\n",
       "      <td>no</td>\n",
       "      <td>no</td>\n",
       "      <td>telephone</td>\n",
       "      <td>may</td>\n",
       "      <td>mon</td>\n",
       "      <td>1</td>\n",
       "      <td>999</td>\n",
       "      <td>0</td>\n",
       "      <td>nonexistent</td>\n",
       "      <td>1.1</td>\n",
       "      <td>93.994</td>\n",
       "      <td>-36.4</td>\n",
       "      <td>4.857</td>\n",
       "      <td>5191.0</td>\n",
       "      <td>no</td>\n",
       "    </tr>\n",
       "    <tr>\n",
       "      <th>1</th>\n",
       "      <td>57</td>\n",
       "      <td>services</td>\n",
       "      <td>married</td>\n",
       "      <td>high.school</td>\n",
       "      <td>no</td>\n",
       "      <td>no</td>\n",
       "      <td>telephone</td>\n",
       "      <td>may</td>\n",
       "      <td>mon</td>\n",
       "      <td>1</td>\n",
       "      <td>999</td>\n",
       "      <td>0</td>\n",
       "      <td>nonexistent</td>\n",
       "      <td>1.1</td>\n",
       "      <td>93.994</td>\n",
       "      <td>-36.4</td>\n",
       "      <td>4.857</td>\n",
       "      <td>5191.0</td>\n",
       "      <td>no</td>\n",
       "    </tr>\n",
       "    <tr>\n",
       "      <th>2</th>\n",
       "      <td>37</td>\n",
       "      <td>services</td>\n",
       "      <td>married</td>\n",
       "      <td>high.school</td>\n",
       "      <td>yes</td>\n",
       "      <td>no</td>\n",
       "      <td>telephone</td>\n",
       "      <td>may</td>\n",
       "      <td>mon</td>\n",
       "      <td>1</td>\n",
       "      <td>999</td>\n",
       "      <td>0</td>\n",
       "      <td>nonexistent</td>\n",
       "      <td>1.1</td>\n",
       "      <td>93.994</td>\n",
       "      <td>-36.4</td>\n",
       "      <td>4.857</td>\n",
       "      <td>5191.0</td>\n",
       "      <td>no</td>\n",
       "    </tr>\n",
       "    <tr>\n",
       "      <th>3</th>\n",
       "      <td>40</td>\n",
       "      <td>admin.</td>\n",
       "      <td>married</td>\n",
       "      <td>basic.6y</td>\n",
       "      <td>no</td>\n",
       "      <td>no</td>\n",
       "      <td>telephone</td>\n",
       "      <td>may</td>\n",
       "      <td>mon</td>\n",
       "      <td>1</td>\n",
       "      <td>999</td>\n",
       "      <td>0</td>\n",
       "      <td>nonexistent</td>\n",
       "      <td>1.1</td>\n",
       "      <td>93.994</td>\n",
       "      <td>-36.4</td>\n",
       "      <td>4.857</td>\n",
       "      <td>5191.0</td>\n",
       "      <td>no</td>\n",
       "    </tr>\n",
       "    <tr>\n",
       "      <th>4</th>\n",
       "      <td>56</td>\n",
       "      <td>services</td>\n",
       "      <td>married</td>\n",
       "      <td>high.school</td>\n",
       "      <td>no</td>\n",
       "      <td>yes</td>\n",
       "      <td>telephone</td>\n",
       "      <td>may</td>\n",
       "      <td>mon</td>\n",
       "      <td>1</td>\n",
       "      <td>999</td>\n",
       "      <td>0</td>\n",
       "      <td>nonexistent</td>\n",
       "      <td>1.1</td>\n",
       "      <td>93.994</td>\n",
       "      <td>-36.4</td>\n",
       "      <td>4.857</td>\n",
       "      <td>5191.0</td>\n",
       "      <td>no</td>\n",
       "    </tr>\n",
       "  </tbody>\n",
       "</table>\n",
       "</div>"
      ],
      "text/plain": [
       "   age        job  marital    education housing loan    contact month  \\\n",
       "0   56  housemaid  married     basic.4y      no   no  telephone   may   \n",
       "1   57   services  married  high.school      no   no  telephone   may   \n",
       "2   37   services  married  high.school     yes   no  telephone   may   \n",
       "3   40     admin.  married     basic.6y      no   no  telephone   may   \n",
       "4   56   services  married  high.school      no  yes  telephone   may   \n",
       "\n",
       "  day_of_week  campaign  pdays  previous     poutcome  emp.var.rate  \\\n",
       "0         mon         1    999         0  nonexistent           1.1   \n",
       "1         mon         1    999         0  nonexistent           1.1   \n",
       "2         mon         1    999         0  nonexistent           1.1   \n",
       "3         mon         1    999         0  nonexistent           1.1   \n",
       "4         mon         1    999         0  nonexistent           1.1   \n",
       "\n",
       "   cons.price.idx  cons.conf.idx  euribor3m  nr.employed subscribed  \n",
       "0          93.994          -36.4      4.857       5191.0         no  \n",
       "1          93.994          -36.4      4.857       5191.0         no  \n",
       "2          93.994          -36.4      4.857       5191.0         no  \n",
       "3          93.994          -36.4      4.857       5191.0         no  \n",
       "4          93.994          -36.4      4.857       5191.0         no  "
      ]
     },
     "execution_count": 175,
     "metadata": {},
     "output_type": "execute_result"
    }
   ],
   "source": [
    "df3.head()\n",
    "\n"
   ]
  },
  {
   "cell_type": "code",
   "execution_count": 176,
   "id": "b6e88996",
   "metadata": {},
   "outputs": [
    {
     "name": "stdout",
     "output_type": "stream",
     "text": [
      "job: ['housemaid' 'services' 'admin.' 'technician' 'blue-collar' 'retired'\n",
      " 'management' 'unemployed' 'self-employed' 'entrepreneur' 'student']\n",
      "marital: ['married' 'single' 'divorced']\n",
      "education: ['basic.4y' 'high.school' 'basic.6y' 'basic.9y' 'professional.course'\n",
      " 'university.degree' 'illiterate']\n",
      "housing: ['no' 'yes']\n",
      "loan: ['no' 'yes']\n",
      "contact: ['telephone' 'cellular']\n",
      "month: ['may' 'jun' 'jul' 'aug' 'oct' 'nov' 'dec' 'mar' 'apr' 'sep']\n",
      "day_of_week: ['mon' 'tue' 'wed' 'thu' 'fri']\n",
      "poutcome: ['nonexistent' 'failure' 'success']\n",
      "subscribed: ['no' 'yes']\n"
     ]
    }
   ],
   "source": [
    "print_unique_col_values(df3)"
   ]
  },
  {
   "cell_type": "code",
   "execution_count": null,
   "id": "88a963d6",
   "metadata": {},
   "outputs": [],
   "source": []
  },
  {
   "cell_type": "code",
   "execution_count": 177,
   "id": "4d017ad2",
   "metadata": {},
   "outputs": [],
   "source": [
    "jobdummies = pd.get_dummies(df3['job'],drop_first=True)\n",
    "df3.drop('job', axis=1, inplace = True) #removing redundant column\n",
    "df3 = pd.concat([df3, jobdummies], axis=1)\n",
    "\n",
    "maritaldummies = pd.get_dummies(df3['marital'],drop_first=True)\n",
    "df3.drop('marital', axis=1, inplace = True) #removing redundant column\n",
    "df3 = pd.concat([df3, maritaldummies], axis=1)\n",
    "\n",
    "\n",
    "educationdummies = pd.get_dummies(df3['education'],drop_first=True)\n",
    "df3.drop('education', axis=1, inplace = True) #removing redundant column\n",
    "df3 = pd.concat([df3, educationdummies], axis=1)\n",
    "\n",
    "poutcomedummies = pd.get_dummies(df3['poutcome'],drop_first=True)\n",
    "df3.drop('poutcome', axis=1, inplace = True) #removing redundant column\n",
    "df3 = pd.concat([df3, poutcomedummies], axis=1)"
   ]
  },
  {
   "cell_type": "code",
   "execution_count": 178,
   "id": "ec9cff1b",
   "metadata": {},
   "outputs": [
    {
     "data": {
      "text/plain": [
       "Index(['age', 'housing', 'loan', 'contact', 'month', 'day_of_week', 'campaign',\n",
       "       'pdays', 'previous', 'emp.var.rate', 'cons.price.idx', 'cons.conf.idx',\n",
       "       'euribor3m', 'nr.employed', 'subscribed', 'blue-collar', 'entrepreneur',\n",
       "       'housemaid', 'management', 'retired', 'self-employed', 'services',\n",
       "       'student', 'technician', 'unemployed', 'married', 'single', 'basic.6y',\n",
       "       'basic.9y', 'high.school', 'illiterate', 'professional.course',\n",
       "       'university.degree', 'nonexistent', 'success'],\n",
       "      dtype='object')"
      ]
     },
     "execution_count": 178,
     "metadata": {},
     "output_type": "execute_result"
    }
   ],
   "source": [
    "df3.columns"
   ]
  },
  {
   "cell_type": "code",
   "execution_count": 179,
   "id": "821818c1",
   "metadata": {},
   "outputs": [],
   "source": [
    "yes_no_columns=['housing','subscribed','loan']\n",
    "df3[yes_no_columns]=df3[yes_no_columns].replace(to_replace=['yes'],value=1,regex=True)\n",
    "df3[yes_no_columns]=df3[yes_no_columns].replace(to_replace=['no'],value=0,regex=True)"
   ]
  },
  {
   "cell_type": "code",
   "execution_count": 180,
   "id": "adeec15a",
   "metadata": {},
   "outputs": [
    {
     "data": {
      "text/html": [
       "<div>\n",
       "<style scoped>\n",
       "    .dataframe tbody tr th:only-of-type {\n",
       "        vertical-align: middle;\n",
       "    }\n",
       "\n",
       "    .dataframe tbody tr th {\n",
       "        vertical-align: top;\n",
       "    }\n",
       "\n",
       "    .dataframe thead th {\n",
       "        text-align: right;\n",
       "    }\n",
       "</style>\n",
       "<table border=\"1\" class=\"dataframe\">\n",
       "  <thead>\n",
       "    <tr style=\"text-align: right;\">\n",
       "      <th></th>\n",
       "      <th>housing</th>\n",
       "      <th>subscribed</th>\n",
       "      <th>loan</th>\n",
       "    </tr>\n",
       "  </thead>\n",
       "  <tbody>\n",
       "    <tr>\n",
       "      <th>0</th>\n",
       "      <td>0</td>\n",
       "      <td>0</td>\n",
       "      <td>0</td>\n",
       "    </tr>\n",
       "    <tr>\n",
       "      <th>1</th>\n",
       "      <td>0</td>\n",
       "      <td>0</td>\n",
       "      <td>0</td>\n",
       "    </tr>\n",
       "    <tr>\n",
       "      <th>2</th>\n",
       "      <td>1</td>\n",
       "      <td>0</td>\n",
       "      <td>0</td>\n",
       "    </tr>\n",
       "    <tr>\n",
       "      <th>3</th>\n",
       "      <td>0</td>\n",
       "      <td>0</td>\n",
       "      <td>0</td>\n",
       "    </tr>\n",
       "    <tr>\n",
       "      <th>4</th>\n",
       "      <td>0</td>\n",
       "      <td>0</td>\n",
       "      <td>1</td>\n",
       "    </tr>\n",
       "    <tr>\n",
       "      <th>...</th>\n",
       "      <td>...</td>\n",
       "      <td>...</td>\n",
       "      <td>...</td>\n",
       "    </tr>\n",
       "    <tr>\n",
       "      <th>41183</th>\n",
       "      <td>1</td>\n",
       "      <td>1</td>\n",
       "      <td>0</td>\n",
       "    </tr>\n",
       "    <tr>\n",
       "      <th>41184</th>\n",
       "      <td>0</td>\n",
       "      <td>0</td>\n",
       "      <td>0</td>\n",
       "    </tr>\n",
       "    <tr>\n",
       "      <th>41185</th>\n",
       "      <td>1</td>\n",
       "      <td>0</td>\n",
       "      <td>0</td>\n",
       "    </tr>\n",
       "    <tr>\n",
       "      <th>41186</th>\n",
       "      <td>0</td>\n",
       "      <td>1</td>\n",
       "      <td>0</td>\n",
       "    </tr>\n",
       "    <tr>\n",
       "      <th>41187</th>\n",
       "      <td>1</td>\n",
       "      <td>0</td>\n",
       "      <td>0</td>\n",
       "    </tr>\n",
       "  </tbody>\n",
       "</table>\n",
       "<p>38144 rows × 3 columns</p>\n",
       "</div>"
      ],
      "text/plain": [
       "       housing  subscribed  loan\n",
       "0            0           0     0\n",
       "1            0           0     0\n",
       "2            1           0     0\n",
       "3            0           0     0\n",
       "4            0           0     1\n",
       "...        ...         ...   ...\n",
       "41183        1           1     0\n",
       "41184        0           0     0\n",
       "41185        1           0     0\n",
       "41186        0           1     0\n",
       "41187        1           0     0\n",
       "\n",
       "[38144 rows x 3 columns]"
      ]
     },
     "execution_count": 180,
     "metadata": {},
     "output_type": "execute_result"
    }
   ],
   "source": [
    "df3[yes_no_columns]"
   ]
  },
  {
   "cell_type": "code",
   "execution_count": 181,
   "id": "33fa3c02",
   "metadata": {},
   "outputs": [],
   "source": [
    "df3=df3.drop(['month','day_of_week'],axis=1) "
   ]
  },
  {
   "cell_type": "code",
   "execution_count": 182,
   "id": "cec9c5da",
   "metadata": {},
   "outputs": [
    {
     "data": {
      "text/plain": [
       "Index(['age', 'housing', 'loan', 'contact', 'campaign', 'pdays', 'previous',\n",
       "       'emp.var.rate', 'cons.price.idx', 'cons.conf.idx', 'euribor3m',\n",
       "       'nr.employed', 'subscribed', 'blue-collar', 'entrepreneur', 'housemaid',\n",
       "       'management', 'retired', 'self-employed', 'services', 'student',\n",
       "       'technician', 'unemployed', 'married', 'single', 'basic.6y', 'basic.9y',\n",
       "       'high.school', 'illiterate', 'professional.course', 'university.degree',\n",
       "       'nonexistent', 'success'],\n",
       "      dtype='object')"
      ]
     },
     "execution_count": 182,
     "metadata": {},
     "output_type": "execute_result"
    }
   ],
   "source": [
    "df3.columns"
   ]
  },
  {
   "cell_type": "code",
   "execution_count": 183,
   "id": "41f2ee86",
   "metadata": {},
   "outputs": [],
   "source": [
    "float_cols = df3.select_dtypes(include=[float]).columns\n",
    "intcols=df3.select_dtypes(include=[int]).columns"
   ]
  },
  {
   "cell_type": "code",
   "execution_count": 184,
   "id": "8b08e6a3",
   "metadata": {},
   "outputs": [
    {
     "data": {
      "text/plain": [
       "Index(['emp.var.rate', 'cons.price.idx', 'cons.conf.idx', 'euribor3m',\n",
       "       'nr.employed'],\n",
       "      dtype='object')"
      ]
     },
     "execution_count": 184,
     "metadata": {},
     "output_type": "execute_result"
    }
   ],
   "source": [
    "float_cols"
   ]
  },
  {
   "cell_type": "code",
   "execution_count": 185,
   "id": "31df3cd2",
   "metadata": {},
   "outputs": [
    {
     "data": {
      "text/plain": [
       "Index(['age', 'housing', 'loan', 'campaign', 'pdays', 'previous',\n",
       "       'subscribed'],\n",
       "      dtype='object')"
      ]
     },
     "execution_count": 185,
     "metadata": {},
     "output_type": "execute_result"
    }
   ],
   "source": [
    "intcols"
   ]
  },
  {
   "cell_type": "code",
   "execution_count": 186,
   "id": "cfb66fb0",
   "metadata": {},
   "outputs": [],
   "source": [
    "from sklearn.preprocessing import StandardScaler\n",
    "scaler = StandardScaler()\n",
    "df3[float_cols] = scaler.fit_transform(df3[float_cols])"
   ]
  },
  {
   "cell_type": "code",
   "execution_count": 187,
   "id": "edf03bd1",
   "metadata": {},
   "outputs": [
    {
     "data": {
      "text/html": [
       "<div>\n",
       "<style scoped>\n",
       "    .dataframe tbody tr th:only-of-type {\n",
       "        vertical-align: middle;\n",
       "    }\n",
       "\n",
       "    .dataframe tbody tr th {\n",
       "        vertical-align: top;\n",
       "    }\n",
       "\n",
       "    .dataframe thead th {\n",
       "        text-align: right;\n",
       "    }\n",
       "</style>\n",
       "<table border=\"1\" class=\"dataframe\">\n",
       "  <thead>\n",
       "    <tr style=\"text-align: right;\">\n",
       "      <th></th>\n",
       "      <th>emp.var.rate</th>\n",
       "      <th>cons.price.idx</th>\n",
       "      <th>cons.conf.idx</th>\n",
       "      <th>euribor3m</th>\n",
       "      <th>nr.employed</th>\n",
       "    </tr>\n",
       "  </thead>\n",
       "  <tbody>\n",
       "    <tr>\n",
       "      <th>0</th>\n",
       "      <td>0.648352</td>\n",
       "      <td>0.734057</td>\n",
       "      <td>0.896264</td>\n",
       "      <td>0.711887</td>\n",
       "      <td>0.327219</td>\n",
       "    </tr>\n",
       "    <tr>\n",
       "      <th>1</th>\n",
       "      <td>0.648352</td>\n",
       "      <td>0.734057</td>\n",
       "      <td>0.896264</td>\n",
       "      <td>0.711887</td>\n",
       "      <td>0.327219</td>\n",
       "    </tr>\n",
       "    <tr>\n",
       "      <th>2</th>\n",
       "      <td>0.648352</td>\n",
       "      <td>0.734057</td>\n",
       "      <td>0.896264</td>\n",
       "      <td>0.711887</td>\n",
       "      <td>0.327219</td>\n",
       "    </tr>\n",
       "    <tr>\n",
       "      <th>3</th>\n",
       "      <td>0.648352</td>\n",
       "      <td>0.734057</td>\n",
       "      <td>0.896264</td>\n",
       "      <td>0.711887</td>\n",
       "      <td>0.327219</td>\n",
       "    </tr>\n",
       "    <tr>\n",
       "      <th>4</th>\n",
       "      <td>0.648352</td>\n",
       "      <td>0.734057</td>\n",
       "      <td>0.896264</td>\n",
       "      <td>0.711887</td>\n",
       "      <td>0.327219</td>\n",
       "    </tr>\n",
       "    <tr>\n",
       "      <th>...</th>\n",
       "      <td>...</td>\n",
       "      <td>...</td>\n",
       "      <td>...</td>\n",
       "      <td>...</td>\n",
       "      <td>...</td>\n",
       "    </tr>\n",
       "    <tr>\n",
       "      <th>41183</th>\n",
       "      <td>-0.757508</td>\n",
       "      <td>2.075740</td>\n",
       "      <td>-2.220474</td>\n",
       "      <td>-1.502344</td>\n",
       "      <td>-2.844020</td>\n",
       "    </tr>\n",
       "    <tr>\n",
       "      <th>41184</th>\n",
       "      <td>-0.757508</td>\n",
       "      <td>2.075740</td>\n",
       "      <td>-2.220474</td>\n",
       "      <td>-1.502344</td>\n",
       "      <td>-2.844020</td>\n",
       "    </tr>\n",
       "    <tr>\n",
       "      <th>41185</th>\n",
       "      <td>-0.757508</td>\n",
       "      <td>2.075740</td>\n",
       "      <td>-2.220474</td>\n",
       "      <td>-1.502344</td>\n",
       "      <td>-2.844020</td>\n",
       "    </tr>\n",
       "    <tr>\n",
       "      <th>41186</th>\n",
       "      <td>-0.757508</td>\n",
       "      <td>2.075740</td>\n",
       "      <td>-2.220474</td>\n",
       "      <td>-1.502344</td>\n",
       "      <td>-2.844020</td>\n",
       "    </tr>\n",
       "    <tr>\n",
       "      <th>41187</th>\n",
       "      <td>-0.757508</td>\n",
       "      <td>2.075740</td>\n",
       "      <td>-2.220474</td>\n",
       "      <td>-1.502344</td>\n",
       "      <td>-2.844020</td>\n",
       "    </tr>\n",
       "  </tbody>\n",
       "</table>\n",
       "<p>38144 rows × 5 columns</p>\n",
       "</div>"
      ],
      "text/plain": [
       "       emp.var.rate  cons.price.idx  cons.conf.idx  euribor3m  nr.employed\n",
       "0          0.648352        0.734057       0.896264   0.711887     0.327219\n",
       "1          0.648352        0.734057       0.896264   0.711887     0.327219\n",
       "2          0.648352        0.734057       0.896264   0.711887     0.327219\n",
       "3          0.648352        0.734057       0.896264   0.711887     0.327219\n",
       "4          0.648352        0.734057       0.896264   0.711887     0.327219\n",
       "...             ...             ...            ...        ...          ...\n",
       "41183     -0.757508        2.075740      -2.220474  -1.502344    -2.844020\n",
       "41184     -0.757508        2.075740      -2.220474  -1.502344    -2.844020\n",
       "41185     -0.757508        2.075740      -2.220474  -1.502344    -2.844020\n",
       "41186     -0.757508        2.075740      -2.220474  -1.502344    -2.844020\n",
       "41187     -0.757508        2.075740      -2.220474  -1.502344    -2.844020\n",
       "\n",
       "[38144 rows x 5 columns]"
      ]
     },
     "execution_count": 187,
     "metadata": {},
     "output_type": "execute_result"
    }
   ],
   "source": [
    "df3[float_cols]"
   ]
  },
  {
   "cell_type": "code",
   "execution_count": 188,
   "id": "0f449154",
   "metadata": {},
   "outputs": [
    {
     "data": {
      "text/plain": [
       "999    36782\n",
       "3        391\n",
       "6        379\n",
       "4        106\n",
       "2         57\n",
       "9         55\n",
       "7         52\n",
       "12        52\n",
       "5         45\n",
       "10        44\n",
       "13        33\n",
       "11        26\n",
       "1         24\n",
       "15        21\n",
       "14        18\n",
       "0         15\n",
       "8         14\n",
       "16         8\n",
       "17         6\n",
       "18         5\n",
       "22         3\n",
       "19         3\n",
       "21         2\n",
       "25         1\n",
       "26         1\n",
       "27         1\n",
       "Name: pdays, dtype: int64"
      ]
     },
     "execution_count": 188,
     "metadata": {},
     "output_type": "execute_result"
    }
   ],
   "source": [
    "df3['pdays'].value_counts()"
   ]
  },
  {
   "cell_type": "code",
   "execution_count": 189,
   "id": "1886c41b",
   "metadata": {},
   "outputs": [],
   "source": [
    "#fornow, keep pdays on hold\n",
    "df3=df3.drop(['pdays'],axis=1) "
   ]
  },
  {
   "cell_type": "code",
   "execution_count": 190,
   "id": "356960e3",
   "metadata": {},
   "outputs": [
    {
     "data": {
      "text/plain": [
       "Index(['age', 'housing', 'loan', 'contact', 'campaign', 'previous',\n",
       "       'emp.var.rate', 'cons.price.idx', 'cons.conf.idx', 'euribor3m',\n",
       "       'nr.employed', 'subscribed', 'blue-collar', 'entrepreneur', 'housemaid',\n",
       "       'management', 'retired', 'self-employed', 'services', 'student',\n",
       "       'technician', 'unemployed', 'married', 'single', 'basic.6y', 'basic.9y',\n",
       "       'high.school', 'illiterate', 'professional.course', 'university.degree',\n",
       "       'nonexistent', 'success'],\n",
       "      dtype='object')"
      ]
     },
     "execution_count": 190,
     "metadata": {},
     "output_type": "execute_result"
    }
   ],
   "source": [
    "df3.columns"
   ]
  },
  {
   "cell_type": "code",
   "execution_count": 191,
   "id": "17f61d7f",
   "metadata": {},
   "outputs": [],
   "source": [
    "intcols=df3.select_dtypes(include=[int]).columns"
   ]
  },
  {
   "cell_type": "code",
   "execution_count": 192,
   "id": "3e86b9f4",
   "metadata": {},
   "outputs": [
    {
     "data": {
      "text/plain": [
       "Index(['age', 'housing', 'loan', 'campaign', 'previous'], dtype='object')"
      ]
     },
     "execution_count": 192,
     "metadata": {},
     "output_type": "execute_result"
    }
   ],
   "source": [
    "intcols[:-1]"
   ]
  },
  {
   "cell_type": "code",
   "execution_count": 193,
   "id": "eef3197b",
   "metadata": {},
   "outputs": [
    {
     "data": {
      "text/plain": [
       "0    32987\n",
       "1     4214\n",
       "2      671\n",
       "3      194\n",
       "4       57\n",
       "5       16\n",
       "6        4\n",
       "7        1\n",
       "Name: previous, dtype: int64"
      ]
     },
     "execution_count": 193,
     "metadata": {},
     "output_type": "execute_result"
    }
   ],
   "source": [
    "df3['previous'].value_counts()"
   ]
  },
  {
   "cell_type": "code",
   "execution_count": 194,
   "id": "8703e729",
   "metadata": {},
   "outputs": [],
   "source": [
    "df3[intcols[:-1]] = scaler.fit_transform(df3[intcols[:-1]])"
   ]
  },
  {
   "cell_type": "code",
   "execution_count": 195,
   "id": "e21a5d3f",
   "metadata": {},
   "outputs": [],
   "source": [
    "intcols=df3.select_dtypes(include=[int]).columns"
   ]
  },
  {
   "cell_type": "code",
   "execution_count": 196,
   "id": "d2ab61d5",
   "metadata": {},
   "outputs": [
    {
     "data": {
      "text/plain": [
       "Index(['subscribed'], dtype='object')"
      ]
     },
     "execution_count": 196,
     "metadata": {},
     "output_type": "execute_result"
    }
   ],
   "source": [
    "intcols"
   ]
  },
  {
   "cell_type": "code",
   "execution_count": 197,
   "id": "7689ba77",
   "metadata": {},
   "outputs": [
    {
     "data": {
      "text/plain": [
       "Index(['age', 'housing', 'loan', 'contact', 'campaign', 'previous',\n",
       "       'emp.var.rate', 'cons.price.idx', 'cons.conf.idx', 'euribor3m',\n",
       "       'nr.employed', 'subscribed', 'blue-collar', 'entrepreneur', 'housemaid',\n",
       "       'management', 'retired', 'self-employed', 'services', 'student',\n",
       "       'technician', 'unemployed', 'married', 'single', 'basic.6y', 'basic.9y',\n",
       "       'high.school', 'illiterate', 'professional.course', 'university.degree',\n",
       "       'nonexistent', 'success'],\n",
       "      dtype='object')"
      ]
     },
     "execution_count": 197,
     "metadata": {},
     "output_type": "execute_result"
    }
   ],
   "source": [
    "df3.columns"
   ]
  },
  {
   "cell_type": "code",
   "execution_count": 198,
   "id": "1cb22a81",
   "metadata": {
    "scrolled": true
   },
   "outputs": [
    {
     "name": "stdout",
     "output_type": "stream",
     "text": [
      "age: [ 1.5678539   1.6650379  -0.27864222  0.0129098   0.49882983  1.85940592\n",
      " -1.5420343  -1.44485029 -1.05611427 -0.47301023  1.37348589  0.59601384\n",
      "  0.98474986 -0.08427421 -0.95893026  1.47066989  0.1100938  -0.57019424\n",
      "  1.17911787 -0.76456225 -0.18145821  0.40164582  0.20727781  1.95658992\n",
      "  1.27630188  0.69319784  1.08193387  0.79038185 -0.66737824  0.88756585\n",
      " -0.86174626  0.30446182  1.76222191 -0.37582623 -1.15329828 -1.25048228\n",
      " -1.34766629 -1.73640231 -1.63921831 -1.93077033 -1.83358632 -2.02795433\n",
      " -2.12513834  2.92842998  2.05377393  2.53969396  3.51153402  2.63687797\n",
      "  3.219982    4.6777421   5.35803014  2.73406197  3.41435002  2.24814194\n",
      "  3.90027005  2.15095794  2.44250995  3.122798    2.34532595  3.02561399\n",
      "  2.83124598  3.70590203  4.38619008  3.80308604  3.60871803  4.19182207\n",
      "  3.99745405  3.31716601  4.09463806 -2.22232234  4.58055809  4.96929412\n",
      "  5.64958216  5.26084613  4.48337408  4.28900607  4.7749261 ]\n",
      "housing: [-1.07926489  0.92655659]\n",
      "loan: [-0.43016032  2.32471465]\n",
      "contact: ['telephone' 'cellular']\n",
      "campaign: [-0.56678986 -0.20579481  0.15520024  0.51619529  0.87719034  1.23818539\n",
      "  1.59918044  1.96017549  2.32117054  2.68216559  3.04316064  3.40415569\n",
      "  3.76515074  5.57012599  7.37510124  4.12614579  7.01410619  8.09709134\n",
      "  4.84813589  5.20913094  4.48714084  5.93112104  6.29211609 13.15102205\n",
      " 11.70704185 14.2340072   9.18007649  8.45808639  8.81908144 10.62405669\n",
      "  6.65311114  7.73609629  9.54107154 10.26306164  9.90206659 13.87301215\n",
      " 12.42903195 13.5120171  10.98505174 11.3460468  14.59500225]\n",
      "previous: [-0.3486231   1.70446932  3.75756174  5.81065417  7.86374659  9.91683901\n",
      " 11.96993143 14.02302386]\n",
      "emp.var.rate: [ 0.64835217  0.8400604  -0.11848075 -0.1823835  -1.20482739 -1.90775757\n",
      " -2.22727129 -1.97166031 -1.14092465 -0.75750819]\n",
      "cons.price.idx: [ 0.73405701  1.55156373  0.6021451  -0.22056867  0.39386313 -0.64407533\n",
      " -1.41471861 -1.26371419 -0.86103572 -1.17693003 -1.05543222 -1.91285965\n",
      " -2.37802271 -2.06907112 -1.97881561 -1.6004367  -1.48935298 -0.3507449\n",
      "  0.30881466  0.52924641  0.83993368  1.11764297  0.79133455  1.08987204\n",
      "  1.78761663  2.07574002]\n",
      "cons.conf.idx: [ 0.89626394 -0.27251294 -0.46730909  0.96119599  0.03050329 -0.31580097\n",
      " -1.15991761 -2.04732229 -1.41964581 -1.22484966 -0.05607278  1.5022964\n",
      "  1.97846476  2.32476902  2.9524455   2.25983697  1.6321605   1.2425682\n",
      "  1.28585624  0.11707935  0.16036739  0.0521473   0.48502763  0.65817976\n",
      " -1.9391022  -2.22047442]\n",
      "euribor3m: [ 0.71188668  0.7113084   0.71073012  0.71304324  0.71362152  0.71246496\n",
      "  0.71593464  0.71651291  0.71709119  0.77549738  0.7720277   0.77087114\n",
      "  0.77029286  0.77144942  0.77260598  0.76855803  0.7639318   0.76913631\n",
      "  0.7749191   0.77318426  0.76971459  0.77607565  0.77723221  0.77434082\n",
      "  0.77376254  0.82060314  0.79458058  0.75757073  0.74889654  0.7471617\n",
      "  0.74369203  0.69453831  0.6754551   0.65579362  0.64018008  0.62109687\n",
      "  0.59970055  0.55864274  0.49040581  0.45108284  0.41465126  0.38168936\n",
      "  0.35797992  0.34525778  0.32675285  0.30477825  0.28569504  0.26025076\n",
      "  0.22844541  0.15905193  0.14632979  0.13129454  0.10989821  0.06768384\n",
      "  0.02489119 -0.03640638 -0.07977731 -0.11447405 -0.17172368 -0.19890279\n",
      " -0.33132869 -1.04955124 -1.05649059 -1.06863445 -1.08077831 -1.09870496\n",
      " -1.11200538 -1.12125784 -1.13513654 -1.14265417 -1.14843696 -1.15479803\n",
      " -1.16347221 -1.17041156 -1.18082058 -1.19469928 -1.1970124  -1.20163863\n",
      " -1.20742142 -1.21146937 -1.21783044 -1.22361323 -1.23055258 -1.23922676\n",
      " -1.24153988 -1.24905751 -1.25657514 -1.26120137 -1.26698416 -1.27392351\n",
      " -1.27854974 -1.28144113 -1.28433253 -1.28375425 -1.28722392 -1.29185016\n",
      " -1.29647639 -1.30341574 -1.30746369 -1.31382476 -1.31960755 -1.32539034\n",
      " -1.32943829 -1.3375342  -1.34563011 -1.35025634 -1.35603913 -1.36471331\n",
      " -1.37396578 -1.37743545 -1.36876127 -1.36586987 -1.3624002  -1.36702643\n",
      " -1.36818299 -1.36355676 -1.35314773 -1.37280922 -1.38263996 -1.38900103\n",
      " -1.39420554 -1.39941006 -1.46128591 -1.46938182 -1.47689945 -1.48441707\n",
      " -1.49077814 -1.49309126 -1.50176544 -1.50812651 -1.51448758 -1.5306794\n",
      " -1.53646219 -1.55091916 -1.55496711 -1.55728023 -1.5607499  -1.56421958\n",
      " -1.56826753 -1.57173721 -1.5746286  -1.57694172 -1.5856159  -1.58619418\n",
      " -1.58735074 -1.5885073  -1.59197697 -1.59429009 -1.59891632 -1.60007288\n",
      " -1.60296427 -1.60469911 -1.60585567 -1.60932534 -1.61221674 -1.61452985\n",
      " -1.61742125 -1.61973437 -1.62204748 -1.62320404 -1.62667371 -1.62898683\n",
      " -1.6324565  -1.63592618 -1.64113069 -1.64517864 -1.64691348 -1.64980488\n",
      " -1.65096143 -1.65153971 -1.65269627 -1.65385283 -1.65616594 -1.6602139\n",
      " -1.66368357 -1.66715325 -1.6683098  -1.66946636 -1.66310529 -1.66137046\n",
      " -1.66079218 -1.66194874 -1.66657497 -1.66888808 -1.66773153 -1.67062292\n",
      " -1.67177948 -1.67293604 -1.67467087 -1.67409259 -1.67582743 -1.67814055\n",
      " -1.67929711 -1.68045366 -1.68103194 -1.68276678 -1.68334506 -1.68392334\n",
      " -1.68161022 -1.67987539 -1.6821885  -1.6850799  -1.68623645 -1.68681473\n",
      " -1.68739301 -1.68854957 -1.68797129 -1.69201924 -1.7180418  -1.71862008\n",
      " -1.71919836 -1.71977664 -1.72035492 -1.7209332  -1.72151148 -1.72324631\n",
      " -1.72440287 -1.72498115 -1.72729427 -1.72845082 -1.72960738 -1.7290291\n",
      " -1.73018566 -1.72787254 -1.72671599 -1.72555943 -1.72382459 -1.71572868\n",
      " -1.71341557 -1.71052417 -1.70821106 -1.70531966 -1.70242827 -1.70184999\n",
      " -1.70127171 -1.70069343 -1.69895859 -1.69780204 -1.69664548 -1.69491064\n",
      " -1.69375408 -1.69259752 -1.69144097 -1.69086269 -1.68970613 -1.68565818\n",
      " -1.68450162 -1.67871883 -1.67640571 -1.67524915 -1.67351432 -1.66426185\n",
      " -1.65674422 -1.65327455 -1.64460036 -1.63997413 -1.63823929 -1.63303478\n",
      " -1.62840855 -1.6214692  -1.61857781 -1.61395158 -1.61106018 -1.60759051\n",
      " -1.59371181 -1.59024214 -1.58503762 -1.58272451 -1.58041139 -1.57867655\n",
      " -1.57752    -1.57636344 -1.57405032 -1.57347204 -1.57925483 -1.57983311\n",
      " -1.58156795 -1.58214623 -1.58330279 -1.58445935 -1.58677246 -1.58792902\n",
      " -1.58908558 -1.58966386 -1.55207572 -1.54571465 -1.54397981 -1.54224498\n",
      " -1.5387753  -1.53472735 -1.53183595 -1.52894456 -1.52720972 -1.52605316\n",
      " -1.52258349 -1.51853554 -1.5139093  -1.50928307 -1.50407856 -1.50003061\n",
      " -1.49713921 -1.49366954 -1.49251298 -1.49135642 -1.48962158 -1.49019986\n",
      " -1.4919347  -1.4948261  -1.49540437 -1.49598265 -1.49829577 -1.50118716\n",
      " -1.50060889 -1.50234372]\n",
      "nr.employed: [ 0.32721938  0.8446027   0.39415846  0.12221843 -0.95438515 -1.27374036\n",
      " -2.09234956 -2.00867571 -2.21507122 -2.4535417  -2.84401968]\n",
      "subscribed: [0 1]\n",
      "blue-collar: [0 1]\n",
      "entrepreneur: [0 1]\n",
      "housemaid: [1 0]\n",
      "management: [0 1]\n",
      "retired: [0 1]\n",
      "self-employed: [0 1]\n",
      "services: [0 1]\n",
      "student: [0 1]\n",
      "technician: [0 1]\n",
      "unemployed: [0 1]\n",
      "married: [1 0]\n",
      "single: [0 1]\n",
      "basic.6y: [0 1]\n",
      "basic.9y: [0 1]\n",
      "high.school: [0 1]\n",
      "illiterate: [0 1]\n",
      "professional.course: [0 1]\n",
      "university.degree: [0 1]\n",
      "nonexistent: [1 0]\n",
      "success: [0 1]\n"
     ]
    }
   ],
   "source": [
    "def pl(df):\n",
    "       for column in df:\n",
    "            print(f'{column}: {df[column].unique()}') \n",
    "\n",
    "pl(df3)"
   ]
  },
  {
   "cell_type": "code",
   "execution_count": 199,
   "id": "3e928da3",
   "metadata": {},
   "outputs": [],
   "source": [
    "df3['contact']=df3['contact'].replace(to_replace=['telephone'],value=0,regex=True)"
   ]
  },
  {
   "cell_type": "code",
   "execution_count": 200,
   "id": "82fc74e5",
   "metadata": {},
   "outputs": [],
   "source": [
    "df3['contact']=df3['contact'].replace(to_replace=['cellular'],value=1,regex=True)"
   ]
  },
  {
   "cell_type": "code",
   "execution_count": 201,
   "id": "29010a48",
   "metadata": {},
   "outputs": [
    {
     "name": "stdout",
     "output_type": "stream",
     "text": [
      "age: [ 1.5678539   1.6650379  -0.27864222  0.0129098   0.49882983  1.85940592\n",
      " -1.5420343  -1.44485029 -1.05611427 -0.47301023  1.37348589  0.59601384\n",
      "  0.98474986 -0.08427421 -0.95893026  1.47066989  0.1100938  -0.57019424\n",
      "  1.17911787 -0.76456225 -0.18145821  0.40164582  0.20727781  1.95658992\n",
      "  1.27630188  0.69319784  1.08193387  0.79038185 -0.66737824  0.88756585\n",
      " -0.86174626  0.30446182  1.76222191 -0.37582623 -1.15329828 -1.25048228\n",
      " -1.34766629 -1.73640231 -1.63921831 -1.93077033 -1.83358632 -2.02795433\n",
      " -2.12513834  2.92842998  2.05377393  2.53969396  3.51153402  2.63687797\n",
      "  3.219982    4.6777421   5.35803014  2.73406197  3.41435002  2.24814194\n",
      "  3.90027005  2.15095794  2.44250995  3.122798    2.34532595  3.02561399\n",
      "  2.83124598  3.70590203  4.38619008  3.80308604  3.60871803  4.19182207\n",
      "  3.99745405  3.31716601  4.09463806 -2.22232234  4.58055809  4.96929412\n",
      "  5.64958216  5.26084613  4.48337408  4.28900607  4.7749261 ]\n",
      "housing: [-1.07926489  0.92655659]\n",
      "loan: [-0.43016032  2.32471465]\n",
      "contact: [0 1]\n",
      "campaign: [-0.56678986 -0.20579481  0.15520024  0.51619529  0.87719034  1.23818539\n",
      "  1.59918044  1.96017549  2.32117054  2.68216559  3.04316064  3.40415569\n",
      "  3.76515074  5.57012599  7.37510124  4.12614579  7.01410619  8.09709134\n",
      "  4.84813589  5.20913094  4.48714084  5.93112104  6.29211609 13.15102205\n",
      " 11.70704185 14.2340072   9.18007649  8.45808639  8.81908144 10.62405669\n",
      "  6.65311114  7.73609629  9.54107154 10.26306164  9.90206659 13.87301215\n",
      " 12.42903195 13.5120171  10.98505174 11.3460468  14.59500225]\n",
      "previous: [-0.3486231   1.70446932  3.75756174  5.81065417  7.86374659  9.91683901\n",
      " 11.96993143 14.02302386]\n",
      "emp.var.rate: [ 0.64835217  0.8400604  -0.11848075 -0.1823835  -1.20482739 -1.90775757\n",
      " -2.22727129 -1.97166031 -1.14092465 -0.75750819]\n",
      "cons.price.idx: [ 0.73405701  1.55156373  0.6021451  -0.22056867  0.39386313 -0.64407533\n",
      " -1.41471861 -1.26371419 -0.86103572 -1.17693003 -1.05543222 -1.91285965\n",
      " -2.37802271 -2.06907112 -1.97881561 -1.6004367  -1.48935298 -0.3507449\n",
      "  0.30881466  0.52924641  0.83993368  1.11764297  0.79133455  1.08987204\n",
      "  1.78761663  2.07574002]\n",
      "cons.conf.idx: [ 0.89626394 -0.27251294 -0.46730909  0.96119599  0.03050329 -0.31580097\n",
      " -1.15991761 -2.04732229 -1.41964581 -1.22484966 -0.05607278  1.5022964\n",
      "  1.97846476  2.32476902  2.9524455   2.25983697  1.6321605   1.2425682\n",
      "  1.28585624  0.11707935  0.16036739  0.0521473   0.48502763  0.65817976\n",
      " -1.9391022  -2.22047442]\n",
      "euribor3m: [ 0.71188668  0.7113084   0.71073012  0.71304324  0.71362152  0.71246496\n",
      "  0.71593464  0.71651291  0.71709119  0.77549738  0.7720277   0.77087114\n",
      "  0.77029286  0.77144942  0.77260598  0.76855803  0.7639318   0.76913631\n",
      "  0.7749191   0.77318426  0.76971459  0.77607565  0.77723221  0.77434082\n",
      "  0.77376254  0.82060314  0.79458058  0.75757073  0.74889654  0.7471617\n",
      "  0.74369203  0.69453831  0.6754551   0.65579362  0.64018008  0.62109687\n",
      "  0.59970055  0.55864274  0.49040581  0.45108284  0.41465126  0.38168936\n",
      "  0.35797992  0.34525778  0.32675285  0.30477825  0.28569504  0.26025076\n",
      "  0.22844541  0.15905193  0.14632979  0.13129454  0.10989821  0.06768384\n",
      "  0.02489119 -0.03640638 -0.07977731 -0.11447405 -0.17172368 -0.19890279\n",
      " -0.33132869 -1.04955124 -1.05649059 -1.06863445 -1.08077831 -1.09870496\n",
      " -1.11200538 -1.12125784 -1.13513654 -1.14265417 -1.14843696 -1.15479803\n",
      " -1.16347221 -1.17041156 -1.18082058 -1.19469928 -1.1970124  -1.20163863\n",
      " -1.20742142 -1.21146937 -1.21783044 -1.22361323 -1.23055258 -1.23922676\n",
      " -1.24153988 -1.24905751 -1.25657514 -1.26120137 -1.26698416 -1.27392351\n",
      " -1.27854974 -1.28144113 -1.28433253 -1.28375425 -1.28722392 -1.29185016\n",
      " -1.29647639 -1.30341574 -1.30746369 -1.31382476 -1.31960755 -1.32539034\n",
      " -1.32943829 -1.3375342  -1.34563011 -1.35025634 -1.35603913 -1.36471331\n",
      " -1.37396578 -1.37743545 -1.36876127 -1.36586987 -1.3624002  -1.36702643\n",
      " -1.36818299 -1.36355676 -1.35314773 -1.37280922 -1.38263996 -1.38900103\n",
      " -1.39420554 -1.39941006 -1.46128591 -1.46938182 -1.47689945 -1.48441707\n",
      " -1.49077814 -1.49309126 -1.50176544 -1.50812651 -1.51448758 -1.5306794\n",
      " -1.53646219 -1.55091916 -1.55496711 -1.55728023 -1.5607499  -1.56421958\n",
      " -1.56826753 -1.57173721 -1.5746286  -1.57694172 -1.5856159  -1.58619418\n",
      " -1.58735074 -1.5885073  -1.59197697 -1.59429009 -1.59891632 -1.60007288\n",
      " -1.60296427 -1.60469911 -1.60585567 -1.60932534 -1.61221674 -1.61452985\n",
      " -1.61742125 -1.61973437 -1.62204748 -1.62320404 -1.62667371 -1.62898683\n",
      " -1.6324565  -1.63592618 -1.64113069 -1.64517864 -1.64691348 -1.64980488\n",
      " -1.65096143 -1.65153971 -1.65269627 -1.65385283 -1.65616594 -1.6602139\n",
      " -1.66368357 -1.66715325 -1.6683098  -1.66946636 -1.66310529 -1.66137046\n",
      " -1.66079218 -1.66194874 -1.66657497 -1.66888808 -1.66773153 -1.67062292\n",
      " -1.67177948 -1.67293604 -1.67467087 -1.67409259 -1.67582743 -1.67814055\n",
      " -1.67929711 -1.68045366 -1.68103194 -1.68276678 -1.68334506 -1.68392334\n",
      " -1.68161022 -1.67987539 -1.6821885  -1.6850799  -1.68623645 -1.68681473\n",
      " -1.68739301 -1.68854957 -1.68797129 -1.69201924 -1.7180418  -1.71862008\n",
      " -1.71919836 -1.71977664 -1.72035492 -1.7209332  -1.72151148 -1.72324631\n",
      " -1.72440287 -1.72498115 -1.72729427 -1.72845082 -1.72960738 -1.7290291\n",
      " -1.73018566 -1.72787254 -1.72671599 -1.72555943 -1.72382459 -1.71572868\n",
      " -1.71341557 -1.71052417 -1.70821106 -1.70531966 -1.70242827 -1.70184999\n",
      " -1.70127171 -1.70069343 -1.69895859 -1.69780204 -1.69664548 -1.69491064\n",
      " -1.69375408 -1.69259752 -1.69144097 -1.69086269 -1.68970613 -1.68565818\n",
      " -1.68450162 -1.67871883 -1.67640571 -1.67524915 -1.67351432 -1.66426185\n",
      " -1.65674422 -1.65327455 -1.64460036 -1.63997413 -1.63823929 -1.63303478\n",
      " -1.62840855 -1.6214692  -1.61857781 -1.61395158 -1.61106018 -1.60759051\n",
      " -1.59371181 -1.59024214 -1.58503762 -1.58272451 -1.58041139 -1.57867655\n",
      " -1.57752    -1.57636344 -1.57405032 -1.57347204 -1.57925483 -1.57983311\n",
      " -1.58156795 -1.58214623 -1.58330279 -1.58445935 -1.58677246 -1.58792902\n",
      " -1.58908558 -1.58966386 -1.55207572 -1.54571465 -1.54397981 -1.54224498\n",
      " -1.5387753  -1.53472735 -1.53183595 -1.52894456 -1.52720972 -1.52605316\n",
      " -1.52258349 -1.51853554 -1.5139093  -1.50928307 -1.50407856 -1.50003061\n",
      " -1.49713921 -1.49366954 -1.49251298 -1.49135642 -1.48962158 -1.49019986\n",
      " -1.4919347  -1.4948261  -1.49540437 -1.49598265 -1.49829577 -1.50118716\n",
      " -1.50060889 -1.50234372]\n",
      "nr.employed: [ 0.32721938  0.8446027   0.39415846  0.12221843 -0.95438515 -1.27374036\n",
      " -2.09234956 -2.00867571 -2.21507122 -2.4535417  -2.84401968]\n",
      "subscribed: [0 1]\n",
      "blue-collar: [0 1]\n",
      "entrepreneur: [0 1]\n",
      "housemaid: [1 0]\n",
      "management: [0 1]\n",
      "retired: [0 1]\n",
      "self-employed: [0 1]\n",
      "services: [0 1]\n",
      "student: [0 1]\n",
      "technician: [0 1]\n",
      "unemployed: [0 1]\n",
      "married: [1 0]\n",
      "single: [0 1]\n",
      "basic.6y: [0 1]\n",
      "basic.9y: [0 1]\n",
      "high.school: [0 1]\n",
      "illiterate: [0 1]\n",
      "professional.course: [0 1]\n",
      "university.degree: [0 1]\n",
      "nonexistent: [1 0]\n",
      "success: [0 1]\n"
     ]
    }
   ],
   "source": [
    "pl(df3)"
   ]
  },
  {
   "cell_type": "code",
   "execution_count": 202,
   "id": "3e2ae438",
   "metadata": {},
   "outputs": [],
   "source": [
    "df3.to_csv('datafinal.csv', index=False)"
   ]
  },
  {
   "cell_type": "markdown",
   "id": "0a5c3dda",
   "metadata": {},
   "source": [
    "# Logistic regression"
   ]
  },
  {
   "cell_type": "code",
   "execution_count": 130,
   "id": "fe494fed",
   "metadata": {},
   "outputs": [],
   "source": [
    "# Train test split\n",
    "from sklearn.model_selection import train_test_split\n",
    "X = df3.drop('subscribed',axis='columns')\n",
    "y = df3['subscribed']\n",
    "\n",
    "X_train, X_test, y_train, y_test = train_test_split(X, y, stratify=y, test_size=0.20, random_state= 15)\n",
    "\n",
    "X_train, X_val, y_train, y_val = train_test_split(X_train, y_train,stratify=y_train, test_size=0.20, random_state= 15) "
   ]
  },
  {
   "cell_type": "code",
   "execution_count": 131,
   "id": "dd23c5af",
   "metadata": {
    "scrolled": true
   },
   "outputs": [
    {
     "name": "stdout",
     "output_type": "stream",
     "text": [
      "subscribed occurences in the training set \n",
      " 0    21691\n",
      "1     2721\n",
      "Name: subscribed, dtype: int64\n",
      "\n",
      "\n",
      "subscribed occurences throughout the data \n",
      " 0    33893\n",
      "1     4251\n",
      "Name: subscribed, dtype: int64\n"
     ]
    }
   ],
   "source": [
    "print('subscribed occurences in the training set \\n', y_train.value_counts())\n",
    "print('\\n')\n",
    "print('subscribed occurences throughout the data \\n', y.value_counts())"
   ]
  },
  {
   "cell_type": "code",
   "execution_count": 132,
   "id": "363d9e75",
   "metadata": {},
   "outputs": [
    {
     "name": "stdout",
     "output_type": "stream",
     "text": [
      "Confusion Matrix for Validation set using Decision Tree classifer:\n",
      " [[4913  510]\n",
      " [ 448  232]]\n",
      "F1 Score for Validation set using Decision Tree classifer: 0.3263009845288326\n",
      "Confusion Matrix for Test set using Decision Tree classifer:\n",
      " [[6139  640]\n",
      " [ 575  275]]\n",
      "F1 Score for Test set using Decision Tree classifer: 0.311614730878187\n"
     ]
    },
    {
     "name": "stderr",
     "output_type": "stream",
     "text": [
      "/Users/pratikgawli/opt/anaconda3/lib/python3.9/site-packages/sklearn/utils/deprecation.py:87: FutureWarning: Function plot_confusion_matrix is deprecated; Function `plot_confusion_matrix` is deprecated in 1.0 and will be removed in 1.2. Use one of the class methods: ConfusionMatrixDisplay.from_predictions or ConfusionMatrixDisplay.from_estimator.\n",
      "  warnings.warn(msg, category=FutureWarning)\n",
      "/Users/pratikgawli/opt/anaconda3/lib/python3.9/site-packages/sklearn/utils/deprecation.py:87: FutureWarning: Function plot_confusion_matrix is deprecated; Function `plot_confusion_matrix` is deprecated in 1.0 and will be removed in 1.2. Use one of the class methods: ConfusionMatrixDisplay.from_predictions or ConfusionMatrixDisplay.from_estimator.\n",
      "  warnings.warn(msg, category=FutureWarning)\n"
     ]
    },
    {
     "data": {
      "image/png": "[encoded data removed]",
      "text/plain": [
       "<Figure size 432x288 with 2 Axes>"
      ]
     },
     "metadata": {
      "needs_background": "light"
     },
     "output_type": "display_data"
    },
    {
     "data": {
      "image/png": "[encoded data removed]",
      "text/plain": [
       "<Figure size 432x288 with 2 Axes>"
      ]
     },
     "metadata": {
      "needs_background": "light"
     },
     "output_type": "display_data"
    }
   ],
   "source": [
    "# Decision Tree Classifier\n",
    "from sklearn.metrics import plot_confusion_matrix, plot_roc_curve, plot_precision_recall_curve\n",
    "from sklearn import tree\n",
    "from sklearn.metrics import confusion_matrix\n",
    "from sklearn.metrics import accuracy_score, precision_score, recall_score, f1_score\n",
    "from sklearn.metrics import classification_report\n",
    "\n",
    "classifier_dt = tree.DecisionTreeClassifier(random_state=15)\n",
    "classifier_dt.fit(X_train, y_train)\n",
    "\n",
    "#using both confusion_matrix and plot_confusion_matrix functions as the latter is deprecated, both give same results though\n",
    "\n",
    "y_dt_val_pred = classifier_dt.predict(X_val)\n",
    "cm_dt_val=confusion_matrix(y_val, y_dt_val_pred)\n",
    "plot_confusion_matrix(classifier_dt,X_val,y_val)\n",
    "print(\"Confusion Matrix for Validation set using Decision Tree classifer:\\n\",cm_dt_val)\n",
    "print(\"F1 Score for Validation set using Decision Tree classifer:\",f1_score(y_val, y_dt_val_pred))\n",
    "\n",
    "y_dt_test_pred=classifier_dt.predict(X_test)\n",
    "cm_dt_test=confusion_matrix(y_test, y_dt_test_pred)\n",
    "plot_confusion_matrix(classifier_dt,X_test,y_test)\n",
    "print(\"Confusion Matrix for Test set using Decision Tree classifer:\\n\",cm_dt_test)\n",
    "print(\"F1 Score for Test set using Decision Tree classifer:\",f1_score(y_test, y_dt_test_pred))"
   ]
  },
  {
   "cell_type": "code",
   "execution_count": 133,
   "id": "40909805",
   "metadata": {},
   "outputs": [
    {
     "name": "stdout",
     "output_type": "stream",
     "text": [
      "Confusion Matrix for Validation set using Logistic Regression classifer:\n",
      " [[5350   73]\n",
      " [ 515  165]]\n",
      "F1 Score for Validation set using Logistic Regression classifer: 0.35947712418300654\n",
      "Confusion Matrix for Test set using Logistic Regression classifer:\n",
      " [[6684   95]\n",
      " [ 694  156]]\n",
      "F1 Score for test set using Logistic Regression classifer: 0.28337874659400547\n"
     ]
    },
    {
     "name": "stderr",
     "output_type": "stream",
     "text": [
      "/Users/pratikgawli/opt/anaconda3/lib/python3.9/site-packages/sklearn/linear_model/_logistic.py:444: ConvergenceWarning: lbfgs failed to converge (status=1):\n",
      "STOP: TOTAL NO. of ITERATIONS REACHED LIMIT.\n",
      "\n",
      "Increase the number of iterations (max_iter) or scale the data as shown in:\n",
      "    https://scikit-learn.org/stable/modules/preprocessing.html\n",
      "Please also refer to the documentation for alternative solver options:\n",
      "    https://scikit-learn.org/stable/modules/linear_model.html#logistic-regression\n",
      "  n_iter_i = _check_optimize_result(\n",
      "/Users/pratikgawli/opt/anaconda3/lib/python3.9/site-packages/sklearn/utils/deprecation.py:87: FutureWarning: Function plot_confusion_matrix is deprecated; Function `plot_confusion_matrix` is deprecated in 1.0 and will be removed in 1.2. Use one of the class methods: ConfusionMatrixDisplay.from_predictions or ConfusionMatrixDisplay.from_estimator.\n",
      "  warnings.warn(msg, category=FutureWarning)\n",
      "/Users/pratikgawli/opt/anaconda3/lib/python3.9/site-packages/sklearn/utils/deprecation.py:87: FutureWarning: Function plot_confusion_matrix is deprecated; Function `plot_confusion_matrix` is deprecated in 1.0 and will be removed in 1.2. Use one of the class methods: ConfusionMatrixDisplay.from_predictions or ConfusionMatrixDisplay.from_estimator.\n",
      "  warnings.warn(msg, category=FutureWarning)\n"
     ]
    },
    {
     "data": {
      "image/png": "[encoded data removed]",
      "text/plain": [
       "<Figure size 432x288 with 2 Axes>"
      ]
     },
     "metadata": {
      "needs_background": "light"
     },
     "output_type": "display_data"
    },
    {
     "data": {
      "image/png": "[encoded data removed]",
      "text/plain": [
       "<Figure size 432x288 with 2 Axes>"
      ]
     },
     "metadata": {
      "needs_background": "light"
     },
     "output_type": "display_data"
    }
   ],
   "source": [
    "# Logistic Regression\n",
    "from sklearn.linear_model import LogisticRegression\n",
    "classifier_lr = LogisticRegression(random_state=15)\n",
    "classifier_lr.fit(X_train, y_train)\n",
    "\n",
    "y_lr_val_pred = classifier_lr.predict(X_val)\n",
    "cm_lr_val=confusion_matrix(y_val, y_lr_val_pred)\n",
    "plot_confusion_matrix(classifier_lr,X_val,y_val)\n",
    "print(\"Confusion Matrix for Validation set using Logistic Regression classifer:\\n\",cm_lr_val)\n",
    "print(\"F1 Score for Validation set using Logistic Regression classifer:\",f1_score(y_val, y_lr_val_pred))\n",
    "\n",
    "y_lr_test_pred=classifier_lr.predict(X_test)\n",
    "cm_lr_test=confusion_matrix(y_test, y_lr_test_pred)\n",
    "plot_confusion_matrix(classifier_lr,X_test,y_test)\n",
    "print(\"Confusion Matrix for Test set using Logistic Regression classifer:\\n\",cm_lr_test)\n",
    "print(\"F1 Score for test set using Logistic Regression classifer:\",f1_score(y_test, y_lr_test_pred))"
   ]
  },
  {
   "cell_type": "code",
   "execution_count": 136,
   "id": "b44369fe",
   "metadata": {},
   "outputs": [
    {
     "name": "stderr",
     "output_type": "stream",
     "text": [
      "/Users/pratikgawli/opt/anaconda3/lib/python3.9/site-packages/sklearn/neural_network/_multilayer_perceptron.py:702: ConvergenceWarning: Stochastic Optimizer: Maximum iterations (200) reached and the optimization hasn't converged yet.\n",
      "  warnings.warn(\n",
      "/Users/pratikgawli/opt/anaconda3/lib/python3.9/site-packages/sklearn/utils/deprecation.py:87: FutureWarning: Function plot_confusion_matrix is deprecated; Function `plot_confusion_matrix` is deprecated in 1.0 and will be removed in 1.2. Use one of the class methods: ConfusionMatrixDisplay.from_predictions or ConfusionMatrixDisplay.from_estimator.\n",
      "  warnings.warn(msg, category=FutureWarning)\n",
      "/Users/pratikgawli/opt/anaconda3/lib/python3.9/site-packages/sklearn/utils/deprecation.py:87: FutureWarning: Function plot_confusion_matrix is deprecated; Function `plot_confusion_matrix` is deprecated in 1.0 and will be removed in 1.2. Use one of the class methods: ConfusionMatrixDisplay.from_predictions or ConfusionMatrixDisplay.from_estimator.\n",
      "  warnings.warn(msg, category=FutureWarning)\n"
     ]
    },
    {
     "name": "stdout",
     "output_type": "stream",
     "text": [
      "Confusion Matrix for Validation set using MLP classifer:\n",
      " [[5320  103]\n",
      " [ 511  169]]\n",
      "F1 Score for Validation set using MLP classifer: 0.3550420168067227\n",
      "Confusion Matrix for Test set using MLP classifer:\n",
      " [[6637  142]\n",
      " [ 656  194]]\n",
      "F1 Score for test set using MLP classifer: 0.327150084317032\n"
     ]
    },
    {
     "data": {
      "image/png": "[encoded data removed]",
      "text/plain": [
       "<Figure size 432x288 with 2 Axes>"
      ]
     },
     "metadata": {
      "needs_background": "light"
     },
     "output_type": "display_data"
    },
    {
     "data": {
      "image/png": "[encoded data removed]",
      "text/plain": [
       "<Figure size 432x288 with 2 Axes>"
      ]
     },
     "metadata": {
      "needs_background": "light"
     },
     "output_type": "display_data"
    }
   ],
   "source": [
    "# MLP Classifier\n",
    "from sklearn.neural_network import MLPClassifier\n",
    "\n",
    "classifier_mlp = MLPClassifier(random_state=15)\n",
    "classifier_mlp.fit(X_train, y_train)\n",
    "\n",
    "y_mlp_val_pred = classifier_mlp.predict(X_val)\n",
    "cm_mlp_val=confusion_matrix(y_val, y_mlp_val_pred)\n",
    "plot_confusion_matrix(classifier_mlp,X_val,y_val)\n",
    "print(\"Confusion Matrix for Validation set using MLP classifer:\\n\",cm_mlp_val)\n",
    "print(\"F1 Score for Validation set using MLP classifer:\",f1_score(y_val, y_mlp_val_pred))\n",
    "\n",
    "y_mlp_test_pred=classifier_mlp.predict(X_test)\n",
    "cm_mlp_test=confusion_matrix(y_test, y_mlp_test_pred)\n",
    "plot_confusion_matrix(classifier_mlp,X_test,y_test)\n",
    "print(\"Confusion Matrix for Test set using MLP classifer:\\n\",cm_mlp_test)\n",
    "print(\"F1 Score for test set using MLP classifer:\",f1_score(y_test, y_mlp_test_pred))\n"
   ]
  },
  {
   "cell_type": "code",
   "execution_count": 137,
   "id": "1f63cecb",
   "metadata": {},
   "outputs": [
    {
     "name": "stdout",
     "output_type": "stream",
     "text": [
      "ROC curves for validation set for all three classifiers: \n"
     ]
    },
    {
     "data": {
      "text/plain": [
       "<matplotlib.legend.Legend at 0x7fbcd405e370>"
      ]
     },
     "execution_count": 137,
     "metadata": {},
     "output_type": "execute_result"
    },
    {
     "data": {
      "image/png": "[encoded data removed]",
      "text/plain": [
       "<Figure size 720x576 with 1 Axes>"
      ]
     },
     "metadata": {
      "needs_background": "light"
     },
     "output_type": "display_data"
    }
   ],
   "source": [
    "# Plot ROC curves - for validation set\n",
    "from sklearn.metrics import roc_curve\n",
    "from sklearn import metrics\n",
    "from sklearn.metrics import roc_auc_score\n",
    "plt.figure(figsize = (10,8))\n",
    "print(\"ROC curves for validation set for all three classifiers: \")\n",
    "dt_val_probs = classifier_dt.predict_proba(X_val)\n",
    "dt_val_probs = dt_val_probs[:, 1]\n",
    "fpr, tpr, _ = metrics.roc_curve(y_val, dt_val_probs)\n",
    "auc = round(metrics.roc_auc_score(y_val, dt_val_probs), 4)\n",
    "plt.plot(fpr,tpr,label=\"Decision Tree, AUC=\"+str(auc))\n",
    "\n",
    "lr_val_probs = classifier_lr.predict_proba(X_val)\n",
    "lr_val_probs = lr_val_probs[:, 1]\n",
    "fpr, tpr, _ = metrics.roc_curve(y_val, lr_val_probs)\n",
    "auc = round(metrics.roc_auc_score(y_val, lr_val_probs), 4)\n",
    "plt.plot(fpr,tpr,label=\"Logistic Regression, AUC=\"+str(auc))\n",
    "\n",
    "mlp_val_probs = classifier_mlp.predict_proba(X_val)\n",
    "mlp_val_probs = mlp_val_probs[:, 1]\n",
    "fpr, tpr, _ = metrics.roc_curve(y_val, mlp_val_probs)\n",
    "auc = round(metrics.roc_auc_score(y_val, mlp_val_probs), 4)\n",
    "plt.plot(fpr,tpr,label=\"Multilayer Perceptron Classifier, AUC=\"+str(auc))\n",
    "\n",
    "plt.legend()"
   ]
  },
  {
   "cell_type": "code",
   "execution_count": 138,
   "id": "356bfef8",
   "metadata": {},
   "outputs": [
    {
     "name": "stdout",
     "output_type": "stream",
     "text": [
      "ROC curves for test set for all three classifiers: \n"
     ]
    },
    {
     "data": {
      "text/plain": [
       "<matplotlib.legend.Legend at 0x7fbcd431ba00>"
      ]
     },
     "execution_count": 138,
     "metadata": {},
     "output_type": "execute_result"
    },
    {
     "data": {
      "image/png": "[encoded data removed]",
      "text/plain": [
       "<Figure size 720x576 with 1 Axes>"
      ]
     },
     "metadata": {
      "needs_background": "light"
     },
     "output_type": "display_data"
    }
   ],
   "source": [
    "# Plot ROC curves - for test set\n",
    "plt.figure(figsize = (10,8))\n",
    "print(\"ROC curves for test set for all three classifiers: \")\n",
    "dt_probs = classifier_dt.predict_proba(X_test)\n",
    "dt_probs = dt_probs[:, 1]\n",
    "fpr, tpr, _ = metrics.roc_curve(y_test, dt_probs)\n",
    "auc = round(metrics.roc_auc_score(y_test, dt_probs), 4)\n",
    "plt.plot(fpr,tpr,label=\"Decision Tree, AUC=\"+str(auc))\n",
    "\n",
    "lr_probs = classifier_lr.predict_proba(X_test)\n",
    "lr_probs = lr_probs[:, 1]\n",
    "fpr, tpr, _ = metrics.roc_curve(y_test, lr_probs)\n",
    "auc = round(metrics.roc_auc_score(y_test, lr_probs), 4)\n",
    "plt.plot(fpr,tpr,label=\"Logistic Regression, AUC=\"+str(auc))\n",
    "\n",
    "mlp_probs = classifier_mlp.predict_proba(X_test)\n",
    "mlp_probs = mlp_probs[:, 1]\n",
    "fpr, tpr, _ = metrics.roc_curve(y_test, mlp_probs)\n",
    "auc = round(metrics.roc_auc_score(y_test, mlp_probs), 4)\n",
    "plt.plot(fpr,tpr,label=\"Multilayer Perceptron Classifier, AUC=\"+str(auc))\n",
    "\n",
    "plt.legend()"
   ]
  },
  {
   "cell_type": "code",
   "execution_count": 139,
   "id": "6defd9d1",
   "metadata": {},
   "outputs": [
    {
     "name": "stderr",
     "output_type": "stream",
     "text": [
      "/Users/pratikgawli/opt/anaconda3/lib/python3.9/site-packages/sklearn/utils/deprecation.py:87: FutureWarning: Function plot_precision_recall_curve is deprecated; Function `plot_precision_recall_curve` is deprecated in 1.0 and will be removed in 1.2. Use one of the class methods: PrecisionRecallDisplay.from_predictions or PrecisionRecallDisplay.from_estimator.\n",
      "  warnings.warn(msg, category=FutureWarning)\n",
      "/Users/pratikgawli/opt/anaconda3/lib/python3.9/site-packages/sklearn/utils/deprecation.py:87: FutureWarning: Function plot_precision_recall_curve is deprecated; Function `plot_precision_recall_curve` is deprecated in 1.0 and will be removed in 1.2. Use one of the class methods: PrecisionRecallDisplay.from_predictions or PrecisionRecallDisplay.from_estimator.\n",
      "  warnings.warn(msg, category=FutureWarning)\n",
      "/Users/pratikgawli/opt/anaconda3/lib/python3.9/site-packages/sklearn/utils/deprecation.py:87: FutureWarning: Function plot_precision_recall_curve is deprecated; Function `plot_precision_recall_curve` is deprecated in 1.0 and will be removed in 1.2. Use one of the class methods: PrecisionRecallDisplay.from_predictions or PrecisionRecallDisplay.from_estimator.\n",
      "  warnings.warn(msg, category=FutureWarning)\n"
     ]
    },
    {
     "data": {
      "text/plain": [
       "<Figure size 720x576 with 0 Axes>"
      ]
     },
     "metadata": {},
     "output_type": "display_data"
    },
    {
     "data": {
      "text/plain": [
       "<Figure size 720x576 with 0 Axes>"
      ]
     },
     "metadata": {},
     "output_type": "display_data"
    },
    {
     "data": {
      "image/png": "[encoded data removed]",
      "text/plain": [
       "<Figure size 432x288 with 1 Axes>"
      ]
     },
     "metadata": {
      "needs_background": "light"
     },
     "output_type": "display_data"
    }
   ],
   "source": [
    "# Plot PR curves -  for validation set\n",
    "plt.figure(figsize = (10,8))\n",
    "from sklearn.metrics import precision_recall_curve\n",
    "plt.figure(figsize = (10,8))\n",
    "fig = plot_precision_recall_curve(classifier_dt, X_val, y_val)\n",
    "fig = plot_precision_recall_curve(classifier_lr, X_val, y_val, ax = fig.ax_)\n",
    "fig = plot_precision_recall_curve(classifier_mlp, X_val, y_val, ax = fig.ax_)\n",
    "fig.figure_.suptitle(\"PR curve comparison - validation dataset\")\n",
    "plt.show()"
   ]
  },
  {
   "cell_type": "code",
   "execution_count": 140,
   "id": "e2191357",
   "metadata": {},
   "outputs": [
    {
     "name": "stderr",
     "output_type": "stream",
     "text": [
      "/Users/pratikgawli/opt/anaconda3/lib/python3.9/site-packages/sklearn/utils/deprecation.py:87: FutureWarning: Function plot_precision_recall_curve is deprecated; Function `plot_precision_recall_curve` is deprecated in 1.0 and will be removed in 1.2. Use one of the class methods: PrecisionRecallDisplay.from_predictions or PrecisionRecallDisplay.from_estimator.\n",
      "  warnings.warn(msg, category=FutureWarning)\n",
      "/Users/pratikgawli/opt/anaconda3/lib/python3.9/site-packages/sklearn/utils/deprecation.py:87: FutureWarning: Function plot_precision_recall_curve is deprecated; Function `plot_precision_recall_curve` is deprecated in 1.0 and will be removed in 1.2. Use one of the class methods: PrecisionRecallDisplay.from_predictions or PrecisionRecallDisplay.from_estimator.\n",
      "  warnings.warn(msg, category=FutureWarning)\n",
      "/Users/pratikgawli/opt/anaconda3/lib/python3.9/site-packages/sklearn/utils/deprecation.py:87: FutureWarning: Function plot_precision_recall_curve is deprecated; Function `plot_precision_recall_curve` is deprecated in 1.0 and will be removed in 1.2. Use one of the class methods: PrecisionRecallDisplay.from_predictions or PrecisionRecallDisplay.from_estimator.\n",
      "  warnings.warn(msg, category=FutureWarning)\n"
     ]
    },
    {
     "data": {
      "image/png": "[encoded data removed]",
      "text/plain": [
       "<Figure size 432x288 with 1 Axes>"
      ]
     },
     "metadata": {
      "needs_background": "light"
     },
     "output_type": "display_data"
    }
   ],
   "source": [
    "fig = plot_precision_recall_curve(classifier_dt, X_test, y_test)\n",
    "fig = plot_precision_recall_curve(classifier_lr, X_test, y_test, ax = fig.ax_)\n",
    "fig = plot_precision_recall_curve(classifier_mlp, X_test, y_test, ax = fig.ax_)\n",
    "fig.figure_.suptitle(\"PR curve comparison - test dataset\")\n",
    "plt.show()"
   ]
  },
  {
   "cell_type": "code",
   "execution_count": 141,
   "id": "fbf52035",
   "metadata": {},
   "outputs": [],
   "source": [
    "\n",
    "X = df3.drop('subscribed',axis='columns')\n",
    "y = df3['subscribed']\n",
    "\n",
    "X_train, X_test, y_train, y_test = train_test_split(X, y, stratify=y, test_size=0.20, random_state= 15)\n",
    "from imblearn.over_sampling import SMOTE\n",
    "sm = SMOTE(random_state=10)\n",
    "X_res, y_res = sm.fit_resample(X_train, y_train)\n",
    "# Answer here\n",
    "X_train, X_val, y_train, y_val = train_test_split(X_res, y_res,stratify=y_res, test_size=0.20, random_state= 15)  "
   ]
  },
  {
   "cell_type": "code",
   "execution_count": 142,
   "id": "11f93b13",
   "metadata": {},
   "outputs": [
    {
     "data": {
      "text/plain": [
       "1    5423\n",
       "0    5423\n",
       "Name: subscribed, dtype: int64"
      ]
     },
     "execution_count": 142,
     "metadata": {},
     "output_type": "execute_result"
    }
   ],
   "source": [
    "y_val.value_counts()"
   ]
  },
  {
   "cell_type": "code",
   "execution_count": 143,
   "id": "a2fc5c68",
   "metadata": {},
   "outputs": [
    {
     "data": {
      "text/plain": [
       "0    6779\n",
       "1     850\n",
       "Name: subscribed, dtype: int64"
      ]
     },
     "execution_count": 143,
     "metadata": {},
     "output_type": "execute_result"
    }
   ],
   "source": [
    "y_test.value_counts() "
   ]
  },
  {
   "cell_type": "code",
   "execution_count": 68,
   "id": "6d3041f3",
   "metadata": {},
   "outputs": [],
   "source": [
    "df3.to_csv('data.csv', index=False)"
   ]
  },
  {
   "cell_type": "code",
   "execution_count": 69,
   "id": "c9d9a74c",
   "metadata": {},
   "outputs": [
    {
     "data": {
      "text/html": [
       "<div>\n",
       "<style scoped>\n",
       "    .dataframe tbody tr th:only-of-type {\n",
       "        vertical-align: middle;\n",
       "    }\n",
       "\n",
       "    .dataframe tbody tr th {\n",
       "        vertical-align: top;\n",
       "    }\n",
       "\n",
       "    .dataframe thead th {\n",
       "        text-align: right;\n",
       "    }\n",
       "</style>\n",
       "<table border=\"1\" class=\"dataframe\">\n",
       "  <thead>\n",
       "    <tr style=\"text-align: right;\">\n",
       "      <th></th>\n",
       "      <th>age</th>\n",
       "      <th>housing</th>\n",
       "      <th>loan</th>\n",
       "      <th>contact</th>\n",
       "      <th>campaign</th>\n",
       "      <th>previous</th>\n",
       "      <th>emp.var.rate</th>\n",
       "      <th>cons.price.idx</th>\n",
       "      <th>cons.conf.idx</th>\n",
       "      <th>euribor3m</th>\n",
       "      <th>...</th>\n",
       "      <th>married</th>\n",
       "      <th>single</th>\n",
       "      <th>basic.6y</th>\n",
       "      <th>basic.9y</th>\n",
       "      <th>high.school</th>\n",
       "      <th>illiterate</th>\n",
       "      <th>professional.course</th>\n",
       "      <th>university.degree</th>\n",
       "      <th>nonexistent</th>\n",
       "      <th>success</th>\n",
       "    </tr>\n",
       "  </thead>\n",
       "  <tbody>\n",
       "    <tr>\n",
       "      <th>count</th>\n",
       "      <td>38144.000000</td>\n",
       "      <td>38144.000000</td>\n",
       "      <td>38144.000000</td>\n",
       "      <td>38144.000000</td>\n",
       "      <td>38144.000000</td>\n",
       "      <td>38144.000000</td>\n",
       "      <td>38144.000000</td>\n",
       "      <td>38144.000000</td>\n",
       "      <td>38144.000000</td>\n",
       "      <td>38144.000000</td>\n",
       "      <td>...</td>\n",
       "      <td>38144.000000</td>\n",
       "      <td>38144.000000</td>\n",
       "      <td>38144.000000</td>\n",
       "      <td>38144.000000</td>\n",
       "      <td>38144.000000</td>\n",
       "      <td>38144.000000</td>\n",
       "      <td>38144.000000</td>\n",
       "      <td>38144.000000</td>\n",
       "      <td>38144.000000</td>\n",
       "      <td>38144.000000</td>\n",
       "    </tr>\n",
       "    <tr>\n",
       "      <th>mean</th>\n",
       "      <td>0.282311</td>\n",
       "      <td>0.538066</td>\n",
       "      <td>0.156145</td>\n",
       "      <td>0.638580</td>\n",
       "      <td>0.037383</td>\n",
       "      <td>0.024258</td>\n",
       "      <td>0.726127</td>\n",
       "      <td>0.533936</td>\n",
       "      <td>0.429250</td>\n",
       "      <td>0.678294</td>\n",
       "      <td>...</td>\n",
       "      <td>0.606019</td>\n",
       "      <td>0.281224</td>\n",
       "      <td>0.057729</td>\n",
       "      <td>0.153104</td>\n",
       "      <td>0.242030</td>\n",
       "      <td>0.000472</td>\n",
       "      <td>0.133284</td>\n",
       "      <td>0.308699</td>\n",
       "      <td>0.864802</td>\n",
       "      <td>0.032482</td>\n",
       "    </tr>\n",
       "    <tr>\n",
       "      <th>std</th>\n",
       "      <td>0.127036</td>\n",
       "      <td>0.498555</td>\n",
       "      <td>0.362998</td>\n",
       "      <td>0.480418</td>\n",
       "      <td>0.065956</td>\n",
       "      <td>0.069582</td>\n",
       "      <td>0.326021</td>\n",
       "      <td>0.224532</td>\n",
       "      <td>0.193317</td>\n",
       "      <td>0.392041</td>\n",
       "      <td>...</td>\n",
       "      <td>0.488637</td>\n",
       "      <td>0.449602</td>\n",
       "      <td>0.233233</td>\n",
       "      <td>0.360092</td>\n",
       "      <td>0.428318</td>\n",
       "      <td>0.021718</td>\n",
       "      <td>0.339886</td>\n",
       "      <td>0.461963</td>\n",
       "      <td>0.341940</td>\n",
       "      <td>0.177279</td>\n",
       "    </tr>\n",
       "    <tr>\n",
       "      <th>min</th>\n",
       "      <td>0.000000</td>\n",
       "      <td>0.000000</td>\n",
       "      <td>0.000000</td>\n",
       "      <td>0.000000</td>\n",
       "      <td>0.000000</td>\n",
       "      <td>0.000000</td>\n",
       "      <td>0.000000</td>\n",
       "      <td>0.000000</td>\n",
       "      <td>0.000000</td>\n",
       "      <td>0.000000</td>\n",
       "      <td>...</td>\n",
       "      <td>0.000000</td>\n",
       "      <td>0.000000</td>\n",
       "      <td>0.000000</td>\n",
       "      <td>0.000000</td>\n",
       "      <td>0.000000</td>\n",
       "      <td>0.000000</td>\n",
       "      <td>0.000000</td>\n",
       "      <td>0.000000</td>\n",
       "      <td>0.000000</td>\n",
       "      <td>0.000000</td>\n",
       "    </tr>\n",
       "    <tr>\n",
       "      <th>25%</th>\n",
       "      <td>0.185185</td>\n",
       "      <td>0.000000</td>\n",
       "      <td>0.000000</td>\n",
       "      <td>0.000000</td>\n",
       "      <td>0.000000</td>\n",
       "      <td>0.000000</td>\n",
       "      <td>0.333333</td>\n",
       "      <td>0.340608</td>\n",
       "      <td>0.338912</td>\n",
       "      <td>0.160961</td>\n",
       "      <td>...</td>\n",
       "      <td>0.000000</td>\n",
       "      <td>0.000000</td>\n",
       "      <td>0.000000</td>\n",
       "      <td>0.000000</td>\n",
       "      <td>0.000000</td>\n",
       "      <td>0.000000</td>\n",
       "      <td>0.000000</td>\n",
       "      <td>0.000000</td>\n",
       "      <td>1.000000</td>\n",
       "      <td>0.000000</td>\n",
       "    </tr>\n",
       "    <tr>\n",
       "      <th>50%</th>\n",
       "      <td>0.259259</td>\n",
       "      <td>1.000000</td>\n",
       "      <td>0.000000</td>\n",
       "      <td>1.000000</td>\n",
       "      <td>0.023810</td>\n",
       "      <td>0.000000</td>\n",
       "      <td>0.937500</td>\n",
       "      <td>0.484412</td>\n",
       "      <td>0.376569</td>\n",
       "      <td>0.957379</td>\n",
       "      <td>...</td>\n",
       "      <td>1.000000</td>\n",
       "      <td>0.000000</td>\n",
       "      <td>0.000000</td>\n",
       "      <td>0.000000</td>\n",
       "      <td>0.000000</td>\n",
       "      <td>0.000000</td>\n",
       "      <td>0.000000</td>\n",
       "      <td>0.000000</td>\n",
       "      <td>1.000000</td>\n",
       "      <td>0.000000</td>\n",
       "    </tr>\n",
       "    <tr>\n",
       "      <th>75%</th>\n",
       "      <td>0.370370</td>\n",
       "      <td>1.000000</td>\n",
       "      <td>0.000000</td>\n",
       "      <td>1.000000</td>\n",
       "      <td>0.047619</td>\n",
       "      <td>0.000000</td>\n",
       "      <td>1.000000</td>\n",
       "      <td>0.698753</td>\n",
       "      <td>0.602510</td>\n",
       "      <td>0.980957</td>\n",
       "      <td>...</td>\n",
       "      <td>1.000000</td>\n",
       "      <td>1.000000</td>\n",
       "      <td>0.000000</td>\n",
       "      <td>0.000000</td>\n",
       "      <td>0.000000</td>\n",
       "      <td>0.000000</td>\n",
       "      <td>0.000000</td>\n",
       "      <td>1.000000</td>\n",
       "      <td>1.000000</td>\n",
       "      <td>0.000000</td>\n",
       "    </tr>\n",
       "    <tr>\n",
       "      <th>max</th>\n",
       "      <td>1.000000</td>\n",
       "      <td>1.000000</td>\n",
       "      <td>1.000000</td>\n",
       "      <td>1.000000</td>\n",
       "      <td>1.000000</td>\n",
       "      <td>1.000000</td>\n",
       "      <td>1.000000</td>\n",
       "      <td>1.000000</td>\n",
       "      <td>1.000000</td>\n",
       "      <td>1.000000</td>\n",
       "      <td>...</td>\n",
       "      <td>1.000000</td>\n",
       "      <td>1.000000</td>\n",
       "      <td>1.000000</td>\n",
       "      <td>1.000000</td>\n",
       "      <td>1.000000</td>\n",
       "      <td>1.000000</td>\n",
       "      <td>1.000000</td>\n",
       "      <td>1.000000</td>\n",
       "      <td>1.000000</td>\n",
       "      <td>1.000000</td>\n",
       "    </tr>\n",
       "  </tbody>\n",
       "</table>\n",
       "<p>8 rows × 32 columns</p>\n",
       "</div>"
      ],
      "text/plain": [
       "                age       housing          loan       contact      campaign  \\\n",
       "count  38144.000000  38144.000000  38144.000000  38144.000000  38144.000000   \n",
       "mean       0.282311      0.538066      0.156145      0.638580      0.037383   \n",
       "std        0.127036      0.498555      0.362998      0.480418      0.065956   \n",
       "min        0.000000      0.000000      0.000000      0.000000      0.000000   \n",
       "25%        0.185185      0.000000      0.000000      0.000000      0.000000   \n",
       "50%        0.259259      1.000000      0.000000      1.000000      0.023810   \n",
       "75%        0.370370      1.000000      0.000000      1.000000      0.047619   \n",
       "max        1.000000      1.000000      1.000000      1.000000      1.000000   \n",
       "\n",
       "           previous  emp.var.rate  cons.price.idx  cons.conf.idx  \\\n",
       "count  38144.000000  38144.000000    38144.000000   38144.000000   \n",
       "mean       0.024258      0.726127        0.533936       0.429250   \n",
       "std        0.069582      0.326021        0.224532       0.193317   \n",
       "min        0.000000      0.000000        0.000000       0.000000   \n",
       "25%        0.000000      0.333333        0.340608       0.338912   \n",
       "50%        0.000000      0.937500        0.484412       0.376569   \n",
       "75%        0.000000      1.000000        0.698753       0.602510   \n",
       "max        1.000000      1.000000        1.000000       1.000000   \n",
       "\n",
       "          euribor3m  ...       married        single      basic.6y  \\\n",
       "count  38144.000000  ...  38144.000000  38144.000000  38144.000000   \n",
       "mean       0.678294  ...      0.606019      0.281224      0.057729   \n",
       "std        0.392041  ...      0.488637      0.449602      0.233233   \n",
       "min        0.000000  ...      0.000000      0.000000      0.000000   \n",
       "25%        0.160961  ...      0.000000      0.000000      0.000000   \n",
       "50%        0.957379  ...      1.000000      0.000000      0.000000   \n",
       "75%        0.980957  ...      1.000000      1.000000      0.000000   \n",
       "max        1.000000  ...      1.000000      1.000000      1.000000   \n",
       "\n",
       "           basic.9y   high.school    illiterate  professional.course  \\\n",
       "count  38144.000000  38144.000000  38144.000000         38144.000000   \n",
       "mean       0.153104      0.242030      0.000472             0.133284   \n",
       "std        0.360092      0.428318      0.021718             0.339886   \n",
       "min        0.000000      0.000000      0.000000             0.000000   \n",
       "25%        0.000000      0.000000      0.000000             0.000000   \n",
       "50%        0.000000      0.000000      0.000000             0.000000   \n",
       "75%        0.000000      0.000000      0.000000             0.000000   \n",
       "max        1.000000      1.000000      1.000000             1.000000   \n",
       "\n",
       "       university.degree   nonexistent       success  \n",
       "count       38144.000000  38144.000000  38144.000000  \n",
       "mean            0.308699      0.864802      0.032482  \n",
       "std             0.461963      0.341940      0.177279  \n",
       "min             0.000000      0.000000      0.000000  \n",
       "25%             0.000000      1.000000      0.000000  \n",
       "50%             0.000000      1.000000      0.000000  \n",
       "75%             1.000000      1.000000      0.000000  \n",
       "max             1.000000      1.000000      1.000000  \n",
       "\n",
       "[8 rows x 32 columns]"
      ]
     },
     "execution_count": 69,
     "metadata": {},
     "output_type": "execute_result"
    }
   ],
   "source": [
    "df3.describe()"
   ]
  },
  {
   "cell_type": "code",
   "execution_count": 70,
   "id": "5638671f",
   "metadata": {},
   "outputs": [],
   "source": [
    "#running on excel, found these variables to be most significant\n",
    "imp_parameters=['contact','campaign',\"emp.var.rate\",\"cons.price.idx\",\"cons.conf.idx\",\"blue-collar\",\"retired\",\"services\",\"student\",\"university.degree\",\"subscribed\"]"
   ]
  },
  {
   "cell_type": "code",
   "execution_count": 71,
   "id": "45f13094",
   "metadata": {},
   "outputs": [
    {
     "data": {
      "text/plain": [
       "['contact',\n",
       " 'campaign',\n",
       " 'emp.var.rate',\n",
       " 'cons.price.idx',\n",
       " 'cons.conf.idx',\n",
       " 'blue-collar',\n",
       " 'retired',\n",
       " 'services',\n",
       " 'student',\n",
       " 'university.degree',\n",
       " 'subscribed']"
      ]
     },
     "execution_count": 71,
     "metadata": {},
     "output_type": "execute_result"
    }
   ],
   "source": [
    "imp_parameters"
   ]
  },
  {
   "cell_type": "code",
   "execution_count": 72,
   "id": "14e45294",
   "metadata": {},
   "outputs": [],
   "source": [
    "impdf=df3[imp_parameters]"
   ]
  },
  {
   "cell_type": "code",
   "execution_count": 73,
   "id": "cbe13bd2",
   "metadata": {},
   "outputs": [],
   "source": [
    "impdf.to_csv(\"impdata.csv\", index=False)"
   ]
  },
  {
   "cell_type": "code",
   "execution_count": 74,
   "id": "9468760f",
   "metadata": {},
   "outputs": [],
   "source": [
    "# Train test split\n",
    "from sklearn.model_selection import train_test_split\n",
    "X = impdf.drop('subscribed',axis='columns')\n",
    "y = impdf['subscribed']\n",
    "\n",
    "X_train, X_test, y_train, y_test = train_test_split(X, y, stratify=y, test_size=0.20, random_state= 15)\n",
    "\n",
    "X_train, X_val, y_train, y_val = train_test_split(X_train, y_train,stratify=y_train, test_size=0.20, random_state= 15) "
   ]
  },
  {
   "cell_type": "code",
   "execution_count": 75,
   "id": "b056c5e9",
   "metadata": {},
   "outputs": [
    {
     "name": "stdout",
     "output_type": "stream",
     "text": [
      "subscribed occurences in the training set \n",
      " 0.0    21691\n",
      "1.0     2721\n",
      "Name: subscribed, dtype: int64\n",
      "\n",
      "\n",
      "subscribed occurences throughout the data \n",
      " 0.0    33893\n",
      "1.0     4251\n",
      "Name: subscribed, dtype: int64\n"
     ]
    }
   ],
   "source": [
    "print('subscribed occurences in the training set \\n', y_train.value_counts())\n",
    "print('\\n')\n",
    "print('subscribed occurences throughout the data \\n', y.value_counts())"
   ]
  },
  {
   "cell_type": "code",
   "execution_count": 76,
   "id": "1f95bfb5",
   "metadata": {},
   "outputs": [
    {
     "name": "stdout",
     "output_type": "stream",
     "text": [
      "Confusion Matrix for Validation set using Decision Tree classifer:\n",
      " [[5263  160]\n",
      " [ 524  156]]\n",
      "F1 Score for Validation set using Decision Tree classifer: 0.3132530120481927\n",
      "Confusion Matrix for Test set using Decision Tree classifer:\n",
      " [[6606  173]\n",
      " [ 673  177]]\n",
      "F1 Score for Test set using Decision Tree classifer: 0.29499999999999993\n"
     ]
    },
    {
     "name": "stderr",
     "output_type": "stream",
     "text": [
      "/Users/pratikgawli/opt/anaconda3/lib/python3.9/site-packages/sklearn/utils/deprecation.py:87: FutureWarning: Function plot_confusion_matrix is deprecated; Function `plot_confusion_matrix` is deprecated in 1.0 and will be removed in 1.2. Use one of the class methods: ConfusionMatrixDisplay.from_predictions or ConfusionMatrixDisplay.from_estimator.\n",
      "  warnings.warn(msg, category=FutureWarning)\n",
      "/Users/pratikgawli/opt/anaconda3/lib/python3.9/site-packages/sklearn/utils/deprecation.py:87: FutureWarning: Function plot_confusion_matrix is deprecated; Function `plot_confusion_matrix` is deprecated in 1.0 and will be removed in 1.2. Use one of the class methods: ConfusionMatrixDisplay.from_predictions or ConfusionMatrixDisplay.from_estimator.\n",
      "  warnings.warn(msg, category=FutureWarning)\n"
     ]
    },
    {
     "data": {
      "image/png": "[encoded data removed]",
      "text/plain": [
       "<Figure size 432x288 with 2 Axes>"
      ]
     },
     "metadata": {
      "needs_background": "light"
     },
     "output_type": "display_data"
    },
    {
     "data": {
      "image/png": "[encoded data removed]",
      "text/plain": [
       "<Figure size 432x288 with 2 Axes>"
      ]
     },
     "metadata": {
      "needs_background": "light"
     },
     "output_type": "display_data"
    }
   ],
   "source": [
    "# Decision Tree Classifier\n",
    "from sklearn.metrics import plot_confusion_matrix, plot_roc_curve, plot_precision_recall_curve\n",
    "from sklearn import tree\n",
    "from sklearn.metrics import confusion_matrix\n",
    "from sklearn.metrics import accuracy_score, precision_score, recall_score, f1_score\n",
    "from sklearn.metrics import classification_report\n",
    "\n",
    "classifier_dt = tree.DecisionTreeClassifier(random_state=15)\n",
    "classifier_dt.fit(X_train, y_train)\n",
    "\n",
    "#using both confusion_matrix and plot_confusion_matrix functions as the latter is deprecated, both give same results though\n",
    "\n",
    "y_dt_val_pred = classifier_dt.predict(X_val)\n",
    "cm_dt_val=confusion_matrix(y_val, y_dt_val_pred)\n",
    "plot_confusion_matrix(classifier_dt,X_val,y_val)\n",
    "print(\"Confusion Matrix for Validation set using Decision Tree classifer:\\n\",cm_dt_val)\n",
    "print(\"F1 Score for Validation set using Decision Tree classifer:\",f1_score(y_val, y_dt_val_pred))\n",
    "\n",
    "y_dt_test_pred=classifier_dt.predict(X_test)\n",
    "cm_dt_test=confusion_matrix(y_test, y_dt_test_pred)\n",
    "plot_confusion_matrix(classifier_dt,X_test,y_test)\n",
    "print(\"Confusion Matrix for Test set using Decision Tree classifer:\\n\",cm_dt_test)\n",
    "print(\"F1 Score for Test set using Decision Tree classifer:\",f1_score(y_test, y_dt_test_pred))"
   ]
  },
  {
   "cell_type": "code",
   "execution_count": 77,
   "id": "88e57b53",
   "metadata": {},
   "outputs": [
    {
     "name": "stdout",
     "output_type": "stream",
     "text": [
      "Confusion Matrix for Validation set using Logistic Regression classifer:\n",
      " [[5298  125]\n",
      " [ 525  155]]\n",
      "F1 Score for Validation set using Logistic Regression classifer: 0.32291666666666663\n",
      "Confusion Matrix for Test set using Logistic Regression classifer:\n",
      " [[6616  163]\n",
      " [ 688  162]]\n",
      "F1 Score for test set using Logistic Regression classifer: 0.27574468085106385\n"
     ]
    },
    {
     "name": "stderr",
     "output_type": "stream",
     "text": [
      "/Users/pratikgawli/opt/anaconda3/lib/python3.9/site-packages/sklearn/utils/deprecation.py:87: FutureWarning: Function plot_confusion_matrix is deprecated; Function `plot_confusion_matrix` is deprecated in 1.0 and will be removed in 1.2. Use one of the class methods: ConfusionMatrixDisplay.from_predictions or ConfusionMatrixDisplay.from_estimator.\n",
      "  warnings.warn(msg, category=FutureWarning)\n",
      "/Users/pratikgawli/opt/anaconda3/lib/python3.9/site-packages/sklearn/utils/deprecation.py:87: FutureWarning: Function plot_confusion_matrix is deprecated; Function `plot_confusion_matrix` is deprecated in 1.0 and will be removed in 1.2. Use one of the class methods: ConfusionMatrixDisplay.from_predictions or ConfusionMatrixDisplay.from_estimator.\n",
      "  warnings.warn(msg, category=FutureWarning)\n"
     ]
    },
    {
     "data": {
      "image/png": "[encoded data removed]",
      "text/plain": [
       "<Figure size 432x288 with 2 Axes>"
      ]
     },
     "metadata": {
      "needs_background": "light"
     },
     "output_type": "display_data"
    },
    {
     "data": {
      "image/png": "[encoded data removed]",
      "text/plain": [
       "<Figure size 432x288 with 2 Axes>"
      ]
     },
     "metadata": {
      "needs_background": "light"
     },
     "output_type": "display_data"
    }
   ],
   "source": [
    "# Logistic Regression\n",
    "from sklearn.linear_model import LogisticRegression\n",
    "classifier_lr = LogisticRegression(random_state=15)\n",
    "classifier_lr.fit(X_train, y_train)\n",
    "\n",
    "y_lr_val_pred = classifier_lr.predict(X_val)\n",
    "cm_lr_val=confusion_matrix(y_val, y_lr_val_pred)\n",
    "plot_confusion_matrix(classifier_lr,X_val,y_val)\n",
    "print(\"Confusion Matrix for Validation set using Logistic Regression classifer:\\n\",cm_lr_val)\n",
    "print(\"F1 Score for Validation set using Logistic Regression classifer:\",f1_score(y_val, y_lr_val_pred))\n",
    "\n",
    "y_lr_test_pred=classifier_lr.predict(X_test)\n",
    "cm_lr_test=confusion_matrix(y_test, y_lr_test_pred)\n",
    "plot_confusion_matrix(classifier_lr,X_test,y_test)\n",
    "print(\"Confusion Matrix for Test set using Logistic Regression classifer:\\n\",cm_lr_test)\n",
    "print(\"F1 Score for test set using Logistic Regression classifer:\",f1_score(y_test, y_lr_test_pred))"
   ]
  },
  {
   "cell_type": "code",
   "execution_count": null,
   "id": "e1b79fed",
   "metadata": {},
   "outputs": [],
   "source": []
  },
  {
   "cell_type": "code",
   "execution_count": 78,
   "id": "d453d27a",
   "metadata": {},
   "outputs": [
    {
     "name": "stderr",
     "output_type": "stream",
     "text": [
      "/Users/pratikgawli/opt/anaconda3/lib/python3.9/site-packages/sklearn/utils/deprecation.py:87: FutureWarning: Function plot_confusion_matrix is deprecated; Function `plot_confusion_matrix` is deprecated in 1.0 and will be removed in 1.2. Use one of the class methods: ConfusionMatrixDisplay.from_predictions or ConfusionMatrixDisplay.from_estimator.\n",
      "  warnings.warn(msg, category=FutureWarning)\n",
      "/Users/pratikgawli/opt/anaconda3/lib/python3.9/site-packages/sklearn/utils/deprecation.py:87: FutureWarning: Function plot_confusion_matrix is deprecated; Function `plot_confusion_matrix` is deprecated in 1.0 and will be removed in 1.2. Use one of the class methods: ConfusionMatrixDisplay.from_predictions or ConfusionMatrixDisplay.from_estimator.\n",
      "  warnings.warn(msg, category=FutureWarning)\n"
     ]
    },
    {
     "name": "stdout",
     "output_type": "stream",
     "text": [
      "Confusion Matrix for Validation set using MLP classifer:\n",
      " [[5295  128]\n",
      " [ 534  146]]\n",
      "F1 Score for Validation set using MLP classifer: 0.3060796645702306\n",
      "Confusion Matrix for Test set using MLP classifer:\n",
      " [[6626  153]\n",
      " [ 675  175]]\n",
      "F1 Score for test set using MLP classifer: 0.29711375212224106\n"
     ]
    },
    {
     "data": {
      "image/png": "[encoded data removed]",
      "text/plain": [
       "<Figure size 432x288 with 2 Axes>"
      ]
     },
     "metadata": {
      "needs_background": "light"
     },
     "output_type": "display_data"
    },
    {
     "data": {
      "image/png": "[encoded data removed]",
      "text/plain": [
       "<Figure size 432x288 with 2 Axes>"
      ]
     },
     "metadata": {
      "needs_background": "light"
     },
     "output_type": "display_data"
    }
   ],
   "source": [
    "# MLP Classifier\n",
    "from sklearn.neural_network import MLPClassifier\n",
    "\n",
    "classifier_mlp = MLPClassifier(random_state=15)\n",
    "classifier_mlp.fit(X_train, y_train)\n",
    "\n",
    "y_mlp_val_pred = classifier_mlp.predict(X_val)\n",
    "cm_mlp_val=confusion_matrix(y_val, y_mlp_val_pred)\n",
    "plot_confusion_matrix(classifier_mlp,X_val,y_val)\n",
    "print(\"Confusion Matrix for Validation set using MLP classifer:\\n\",cm_mlp_val)\n",
    "print(\"F1 Score for Validation set using MLP classifer:\",f1_score(y_val, y_mlp_val_pred))\n",
    "\n",
    "y_mlp_test_pred=classifier_mlp.predict(X_test)\n",
    "cm_mlp_test=confusion_matrix(y_test, y_mlp_test_pred)\n",
    "plot_confusion_matrix(classifier_mlp,X_test,y_test)\n",
    "print(\"Confusion Matrix for Test set using MLP classifer:\\n\",cm_mlp_test)\n",
    "print(\"F1 Score for test set using MLP classifer:\",f1_score(y_test, y_mlp_test_pred))\n"
   ]
  },
  {
   "cell_type": "code",
   "execution_count": 79,
   "id": "4857fc3e",
   "metadata": {},
   "outputs": [
    {
     "name": "stdout",
     "output_type": "stream",
     "text": [
      "ROC curves for validation set for all three classifiers: \n"
     ]
    },
    {
     "data": {
      "text/plain": [
       "<matplotlib.legend.Legend at 0x7fbbbc4d9700>"
      ]
     },
     "execution_count": 79,
     "metadata": {},
     "output_type": "execute_result"
    },
    {
     "data": {
      "image/png": "[encoded data removed]",
      "text/plain": [
       "<Figure size 720x576 with 1 Axes>"
      ]
     },
     "metadata": {
      "needs_background": "light"
     },
     "output_type": "display_data"
    }
   ],
   "source": [
    "\n",
    "plt.figure(figsize = (10,8))\n",
    "print(\"ROC curves for validation set for all three classifiers: \")\n",
    "dt_val_probs = classifier_dt.predict_proba(X_val)\n",
    "dt_val_probs = dt_val_probs[:, 1]\n",
    "fpr, tpr, _ = metrics.roc_curve(y_val, dt_val_probs)\n",
    "auc = round(metrics.roc_auc_score(y_val, dt_val_probs), 4)\n",
    "plt.plot(fpr,tpr,label=\"Decision Tree, AUC=\"+str(auc))\n",
    "\n",
    "lr_val_probs = classifier_lr.predict_proba(X_val)\n",
    "lr_val_probs = lr_val_probs[:, 1]\n",
    "fpr, tpr, _ = metrics.roc_curve(y_val, lr_val_probs)\n",
    "auc = round(metrics.roc_auc_score(y_val, lr_val_probs), 4)\n",
    "plt.plot(fpr,tpr,label=\"Logistic Regression, AUC=\"+str(auc))\n",
    "\n",
    "mlp_val_probs = classifier_mlp.predict_proba(X_val)\n",
    "mlp_val_probs = mlp_val_probs[:, 1]\n",
    "fpr, tpr, _ = metrics.roc_curve(y_val, mlp_val_probs)\n",
    "auc = round(metrics.roc_auc_score(y_val, mlp_val_probs), 4)\n",
    "plt.plot(fpr,tpr,label=\"Multilayer Perceptron Classifier, AUC=\"+str(auc))\n",
    "\n",
    "plt.legend()"
   ]
  },
  {
   "cell_type": "code",
   "execution_count": 80,
   "id": "2088a742",
   "metadata": {},
   "outputs": [
    {
     "name": "stdout",
     "output_type": "stream",
     "text": [
      "ROC curves for test set for all three classifiers: \n"
     ]
    },
    {
     "data": {
      "text/plain": [
       "<matplotlib.legend.Legend at 0x7fbbbc445d00>"
      ]
     },
     "execution_count": 80,
     "metadata": {},
     "output_type": "execute_result"
    },
    {
     "data": {
      "image/png": "[encoded data removed]",
      "text/plain": [
       "<Figure size 720x576 with 1 Axes>"
      ]
     },
     "metadata": {
      "needs_background": "light"
     },
     "output_type": "display_data"
    }
   ],
   "source": [
    "plt.figure(figsize = (10,8))\n",
    "print(\"ROC curves for test set for all three classifiers: \")\n",
    "dt_probs = classifier_dt.predict_proba(X_test)\n",
    "dt_probs = dt_probs[:, 1]\n",
    "fpr, tpr, _ = metrics.roc_curve(y_test, dt_probs)\n",
    "auc = round(metrics.roc_auc_score(y_test, dt_probs), 4)\n",
    "plt.plot(fpr,tpr,label=\"Decision Tree, AUC=\"+str(auc))\n",
    "\n",
    "lr_probs = classifier_lr.predict_proba(X_test)\n",
    "lr_probs = lr_probs[:, 1]\n",
    "fpr, tpr, _ = metrics.roc_curve(y_test, lr_probs)\n",
    "auc = round(metrics.roc_auc_score(y_test, lr_probs), 4)\n",
    "plt.plot(fpr,tpr,label=\"Logistic Regression, AUC=\"+str(auc))\n",
    "\n",
    "mlp_probs = classifier_mlp.predict_proba(X_test)\n",
    "mlp_probs = mlp_probs[:, 1]\n",
    "fpr, tpr, _ = metrics.roc_curve(y_test, mlp_probs)\n",
    "auc = round(metrics.roc_auc_score(y_test, mlp_probs), 4)\n",
    "plt.plot(fpr,tpr,label=\"Multilayer Perceptron Classifier, AUC=\"+str(auc))\n",
    "\n",
    "plt.legend()"
   ]
  },
  {
   "cell_type": "code",
   "execution_count": 81,
   "id": "2f6e8a15",
   "metadata": {},
   "outputs": [],
   "source": [
    "X_train, X_test, y_train, y_test = train_test_split(X, y, stratify=y, test_size=0.20, random_state= 15)\n",
    "from imblearn.over_sampling import SMOTE\n",
    "sm = SMOTE(random_state=10)\n",
    "X_res, y_res = sm.fit_resample(X_train, y_train)\n",
    "# Answer here\n",
    "X_train, X_val, y_train, y_val = train_test_split(X_res, y_res,stratify=y_res, test_size=0.20, random_state= 15) "
   ]
  },
  {
   "cell_type": "code",
   "execution_count": 82,
   "id": "5a748a62",
   "metadata": {},
   "outputs": [
    {
     "name": "stderr",
     "output_type": "stream",
     "text": [
      "/Users/pratikgawli/opt/anaconda3/lib/python3.9/site-packages/sklearn/utils/deprecation.py:87: FutureWarning: Function plot_confusion_matrix is deprecated; Function `plot_confusion_matrix` is deprecated in 1.0 and will be removed in 1.2. Use one of the class methods: ConfusionMatrixDisplay.from_predictions or ConfusionMatrixDisplay.from_estimator.\n",
      "  warnings.warn(msg, category=FutureWarning)\n",
      "/Users/pratikgawli/opt/anaconda3/lib/python3.9/site-packages/sklearn/utils/deprecation.py:87: FutureWarning: Function plot_confusion_matrix is deprecated; Function `plot_confusion_matrix` is deprecated in 1.0 and will be removed in 1.2. Use one of the class methods: ConfusionMatrixDisplay.from_predictions or ConfusionMatrixDisplay.from_estimator.\n",
      "  warnings.warn(msg, category=FutureWarning)\n"
     ]
    },
    {
     "name": "stdout",
     "output_type": "stream",
     "text": [
      "Confusion Matrix for Validation set using Decision Tree classifer:\n",
      " [[4808  615]\n",
      " [1786 3637]]\n",
      "F1 Score for Validation set using Decision Tree classifer: 0.7518346253229974\n",
      "Confusion Matrix for Test set using Decision Tree classifer:\n",
      " [[5974  805]\n",
      " [ 428  422]]\n",
      "F1 Score for Test set using Decision Tree classifer: 0.4063553201733269\n"
     ]
    },
    {
     "data": {
      "image/png": "[encoded data removed]",
      "text/plain": [
       "<Figure size 432x288 with 2 Axes>"
      ]
     },
     "metadata": {
      "needs_background": "light"
     },
     "output_type": "display_data"
    },
    {
     "data": {
      "image/png": "[encoded data removed]",
      "text/plain": [
       "<Figure size 432x288 with 2 Axes>"
      ]
     },
     "metadata": {
      "needs_background": "light"
     },
     "output_type": "display_data"
    }
   ],
   "source": [
    "# Decision Tree Classifier\n",
    "from sklearn.metrics import plot_confusion_matrix, plot_roc_curve, plot_precision_recall_curve\n",
    "from sklearn import tree\n",
    "from sklearn.metrics import confusion_matrix\n",
    "from sklearn.metrics import accuracy_score, precision_score, recall_score, f1_score\n",
    "from sklearn.metrics import classification_report\n",
    "\n",
    "classifier_dt = tree.DecisionTreeClassifier(random_state=15)\n",
    "classifier_dt.fit(X_train, y_train)\n",
    "\n",
    "#using both confusion_matrix and plot_confusion_matrix functions as the latter is deprecated, both give same results though\n",
    "\n",
    "y_dt_val_pred = classifier_dt.predict(X_val)\n",
    "cm_dt_val=confusion_matrix(y_val, y_dt_val_pred)\n",
    "plot_confusion_matrix(classifier_dt,X_val,y_val)\n",
    "print(\"Confusion Matrix for Validation set using Decision Tree classifer:\\n\",cm_dt_val)\n",
    "print(\"F1 Score for Validation set using Decision Tree classifer:\",f1_score(y_val, y_dt_val_pred))\n",
    "\n",
    "y_dt_test_pred=classifier_dt.predict(X_test)\n",
    "cm_dt_test=confusion_matrix(y_test, y_dt_test_pred)\n",
    "plot_confusion_matrix(classifier_dt,X_test,y_test)\n",
    "print(\"Confusion Matrix for Test set using Decision Tree classifer:\\n\",cm_dt_test)\n",
    "print(\"F1 Score for Test set using Decision Tree classifer:\",f1_score(y_test, y_dt_test_pred))"
   ]
  },
  {
   "cell_type": "code",
   "execution_count": 83,
   "id": "ba93ddd8",
   "metadata": {},
   "outputs": [
    {
     "name": "stdout",
     "output_type": "stream",
     "text": [
      "Confusion Matrix for Validation set using Logistic Regression classifer:\n",
      " [[4201 1222]\n",
      " [1780 3643]]\n",
      "F1 Score for Validation set using Logistic Regression classifer: 0.7082037325038879\n",
      "Confusion Matrix for Test set using Logistic Regression classifer:\n",
      " [[5194 1585]\n",
      " [ 291  559]]\n",
      "F1 Score for test set using Logistic Regression classifer: 0.3734134936539747\n"
     ]
    },
    {
     "name": "stderr",
     "output_type": "stream",
     "text": [
      "/Users/pratikgawli/opt/anaconda3/lib/python3.9/site-packages/sklearn/utils/deprecation.py:87: FutureWarning: Function plot_confusion_matrix is deprecated; Function `plot_confusion_matrix` is deprecated in 1.0 and will be removed in 1.2. Use one of the class methods: ConfusionMatrixDisplay.from_predictions or ConfusionMatrixDisplay.from_estimator.\n",
      "  warnings.warn(msg, category=FutureWarning)\n",
      "/Users/pratikgawli/opt/anaconda3/lib/python3.9/site-packages/sklearn/utils/deprecation.py:87: FutureWarning: Function plot_confusion_matrix is deprecated; Function `plot_confusion_matrix` is deprecated in 1.0 and will be removed in 1.2. Use one of the class methods: ConfusionMatrixDisplay.from_predictions or ConfusionMatrixDisplay.from_estimator.\n",
      "  warnings.warn(msg, category=FutureWarning)\n"
     ]
    },
    {
     "data": {
      "image/png": "[encoded data removed]",
      "text/plain": [
       "<Figure size 432x288 with 2 Axes>"
      ]
     },
     "metadata": {
      "needs_background": "light"
     },
     "output_type": "display_data"
    },
    {
     "data": {
      "image/png": "[encoded data removed]",
      "text/plain": [
       "<Figure size 432x288 with 2 Axes>"
      ]
     },
     "metadata": {
      "needs_background": "light"
     },
     "output_type": "display_data"
    }
   ],
   "source": [
    "# Logistic Regression\n",
    "from sklearn.linear_model import LogisticRegression\n",
    "classifier_lr = LogisticRegression(random_state=15)\n",
    "classifier_lr.fit(X_train, y_train)\n",
    "\n",
    "y_lr_val_pred = classifier_lr.predict(X_val)\n",
    "cm_lr_val=confusion_matrix(y_val, y_lr_val_pred)\n",
    "plot_confusion_matrix(classifier_lr,X_val,y_val)\n",
    "print(\"Confusion Matrix for Validation set using Logistic Regression classifer:\\n\",cm_lr_val)\n",
    "print(\"F1 Score for Validation set using Logistic Regression classifer:\",f1_score(y_val, y_lr_val_pred))\n",
    "\n",
    "y_lr_test_pred=classifier_lr.predict(X_test)\n",
    "cm_lr_test=confusion_matrix(y_test, y_lr_test_pred)\n",
    "plot_confusion_matrix(classifier_lr,X_test,y_test)\n",
    "print(\"Confusion Matrix for Test set using Logistic Regression classifer:\\n\",cm_lr_test)\n",
    "print(\"F1 Score for test set using Logistic Regression classifer:\",f1_score(y_test, y_lr_test_pred))"
   ]
  },
  {
   "cell_type": "code",
   "execution_count": 84,
   "id": "37179bc0",
   "metadata": {},
   "outputs": [
    {
     "name": "stderr",
     "output_type": "stream",
     "text": [
      "/Users/pratikgawli/opt/anaconda3/lib/python3.9/site-packages/sklearn/neural_network/_multilayer_perceptron.py:702: ConvergenceWarning: Stochastic Optimizer: Maximum iterations (200) reached and the optimization hasn't converged yet.\n",
      "  warnings.warn(\n",
      "/Users/pratikgawli/opt/anaconda3/lib/python3.9/site-packages/sklearn/utils/deprecation.py:87: FutureWarning: Function plot_confusion_matrix is deprecated; Function `plot_confusion_matrix` is deprecated in 1.0 and will be removed in 1.2. Use one of the class methods: ConfusionMatrixDisplay.from_predictions or ConfusionMatrixDisplay.from_estimator.\n",
      "  warnings.warn(msg, category=FutureWarning)\n",
      "/Users/pratikgawli/opt/anaconda3/lib/python3.9/site-packages/sklearn/utils/deprecation.py:87: FutureWarning: Function plot_confusion_matrix is deprecated; Function `plot_confusion_matrix` is deprecated in 1.0 and will be removed in 1.2. Use one of the class methods: ConfusionMatrixDisplay.from_predictions or ConfusionMatrixDisplay.from_estimator.\n",
      "  warnings.warn(msg, category=FutureWarning)\n"
     ]
    },
    {
     "name": "stdout",
     "output_type": "stream",
     "text": [
      "Confusion Matrix for Validation set using MLP classifer:\n",
      " [[4652  771]\n",
      " [1987 3436]]\n",
      "F1 Score for Validation set using MLP classifer: 0.7136033229491174\n",
      "Confusion Matrix for Test set using MLP classifer:\n",
      " [[5807  972]\n",
      " [ 358  492]]\n",
      "F1 Score for test set using MLP classifer: 0.4252376836646499\n"
     ]
    },
    {
     "data": {
      "image/png": "[encoded data removed]",
      "text/plain": [
       "<Figure size 432x288 with 2 Axes>"
      ]
     },
     "metadata": {
      "needs_background": "light"
     },
     "output_type": "display_data"
    },
    {
     "data": {
      "image/png": "[encoded data removed]",
      "text/plain": [
       "<Figure size 432x288 with 2 Axes>"
      ]
     },
     "metadata": {
      "needs_background": "light"
     },
     "output_type": "display_data"
    }
   ],
   "source": [
    "# MLP Classifier\n",
    "from sklearn.neural_network import MLPClassifier\n",
    "\n",
    "classifier_mlp = MLPClassifier(random_state=15)\n",
    "classifier_mlp.fit(X_train, y_train)\n",
    "\n",
    "y_mlp_val_pred = classifier_mlp.predict(X_val)\n",
    "cm_mlp_val=confusion_matrix(y_val, y_mlp_val_pred)\n",
    "plot_confusion_matrix(classifier_mlp,X_val,y_val)\n",
    "print(\"Confusion Matrix for Validation set using MLP classifer:\\n\",cm_mlp_val)\n",
    "print(\"F1 Score for Validation set using MLP classifer:\",f1_score(y_val, y_mlp_val_pred))\n",
    "\n",
    "y_mlp_test_pred=classifier_mlp.predict(X_test)\n",
    "cm_mlp_test=confusion_matrix(y_test, y_mlp_test_pred)\n",
    "plot_confusion_matrix(classifier_mlp,X_test,y_test)\n",
    "print(\"Confusion Matrix for Test set using MLP classifer:\\n\",cm_mlp_test)\n",
    "print(\"F1 Score for test set using MLP classifer:\",f1_score(y_test, y_mlp_test_pred))\n"
   ]
  },
  {
   "cell_type": "code",
   "execution_count": 85,
   "id": "f30a225f",
   "metadata": {},
   "outputs": [
    {
     "name": "stdout",
     "output_type": "stream",
     "text": [
      "ROC curves for validation set for all three classifiers: \n"
     ]
    },
    {
     "data": {
      "text/plain": [
       "<matplotlib.legend.Legend at 0x7fbb88d77be0>"
      ]
     },
     "execution_count": 85,
     "metadata": {},
     "output_type": "execute_result"
    },
    {
     "data": {
      "image/png": "[encoded data removed]",
      "text/plain": [
       "<Figure size 720x576 with 1 Axes>"
      ]
     },
     "metadata": {
      "needs_background": "light"
     },
     "output_type": "display_data"
    }
   ],
   "source": [
    "\n",
    "plt.figure(figsize = (10,8))\n",
    "print(\"ROC curves for validation set for all three classifiers: \")\n",
    "dt_val_probs = classifier_dt.predict_proba(X_val)\n",
    "dt_val_probs = dt_val_probs[:, 1]\n",
    "fpr, tpr, _ = metrics.roc_curve(y_val, dt_val_probs)\n",
    "auc = round(metrics.roc_auc_score(y_val, dt_val_probs), 4)\n",
    "plt.plot(fpr,tpr,label=\"Decision Tree, AUC=\"+str(auc))\n",
    "\n",
    "lr_val_probs = classifier_lr.predict_proba(X_val)\n",
    "lr_val_probs = lr_val_probs[:, 1]\n",
    "fpr, tpr, _ = metrics.roc_curve(y_val, lr_val_probs)\n",
    "auc = round(metrics.roc_auc_score(y_val, lr_val_probs), 4)\n",
    "plt.plot(fpr,tpr,label=\"Logistic Regression, AUC=\"+str(auc))\n",
    "\n",
    "mlp_val_probs = classifier_mlp.predict_proba(X_val)\n",
    "mlp_val_probs = mlp_val_probs[:, 1]\n",
    "fpr, tpr, _ = metrics.roc_curve(y_val, mlp_val_probs)\n",
    "auc = round(metrics.roc_auc_score(y_val, mlp_val_probs), 4)\n",
    "plt.plot(fpr,tpr,label=\"Multilayer Perceptron Classifier, AUC=\"+str(auc))\n",
    "\n",
    "plt.legend()"
   ]
  },
  {
   "cell_type": "code",
   "execution_count": 86,
   "id": "ba6f6562",
   "metadata": {},
   "outputs": [
    {
     "name": "stdout",
     "output_type": "stream",
     "text": [
      "ROC curves for test set for all three classifiers: \n"
     ]
    },
    {
     "data": {
      "text/plain": [
       "<matplotlib.legend.Legend at 0x7fbbbc6b52b0>"
      ]
     },
     "execution_count": 86,
     "metadata": {},
     "output_type": "execute_result"
    },
    {
     "data": {
      "image/png": "[encoded data removed]",
      "text/plain": [
       "<Figure size 720x576 with 1 Axes>"
      ]
     },
     "metadata": {
      "needs_background": "light"
     },
     "output_type": "display_data"
    }
   ],
   "source": [
    "plt.figure(figsize = (10,8))\n",
    "print(\"ROC curves for test set for all three classifiers: \")\n",
    "dt_probs = classifier_dt.predict_proba(X_test)\n",
    "dt_probs = dt_probs[:, 1]\n",
    "fpr, tpr, _ = metrics.roc_curve(y_test, dt_probs)\n",
    "auc = round(metrics.roc_auc_score(y_test, dt_probs), 4)\n",
    "plt.plot(fpr,tpr,label=\"Decision Tree, AUC=\"+str(auc))\n",
    "\n",
    "lr_probs = classifier_lr.predict_proba(X_test)\n",
    "lr_probs = lr_probs[:, 1]\n",
    "fpr, tpr, _ = metrics.roc_curve(y_test, lr_probs)\n",
    "auc = round(metrics.roc_auc_score(y_test, lr_probs), 4)\n",
    "plt.plot(fpr,tpr,label=\"Logistic Regression, AUC=\"+str(auc))\n",
    "\n",
    "mlp_probs = classifier_mlp.predict_proba(X_test)\n",
    "mlp_probs = mlp_probs[:, 1]\n",
    "fpr, tpr, _ = metrics.roc_curve(y_test, mlp_probs)\n",
    "auc = round(metrics.roc_auc_score(y_test, mlp_probs), 4)\n",
    "plt.plot(fpr,tpr,label=\"Multilayer Perceptron Classifier, AUC=\"+str(auc))\n",
    "\n",
    "plt.legend()"
   ]
  }
 ],
 "metadata": {
  "kernelspec": {
   "display_name": "Python 3 (ipykernel)",
   "language": "python",
   "name": "python3"
  },
  "language_info": {
   "codemirror_mode": {
    "name": "ipython",
    "version": 3
   },
   "file_extension": ".py",
   "mimetype": "text/x-python",
   "name": "python",
   "nbconvert_exporter": "python",
   "pygments_lexer": "ipython3",
   "version": "3.9.12"
  }
 },
 "nbformat": 4,
 "nbformat_minor": 5
}
